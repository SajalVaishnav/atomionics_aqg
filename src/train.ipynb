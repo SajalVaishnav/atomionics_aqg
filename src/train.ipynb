{
 "cells": [
  {
   "cell_type": "code",
   "execution_count": 17,
   "metadata": {},
   "outputs": [],
   "source": [
    "import numpy as np\n",
    "import pandas as pd\n",
    "import torch\n",
    "import torch.nn as nn\n",
    "import torch.optim as optim\n",
    "import os\n",
    "from scipy.optimize import curve_fit"
   ]
  },
  {
   "cell_type": "markdown",
   "metadata": {},
   "source": [
    "## Data preparation"
   ]
  },
  {
   "cell_type": "markdown",
   "metadata": {},
   "source": [
    "### Load data"
   ]
  },
  {
   "cell_type": "code",
   "execution_count": 18,
   "metadata": {},
   "outputs": [
    {
     "name": "stdout",
     "output_type": "stream",
     "text": [
      "(253, 28)\n",
      "(63, 28)\n"
     ]
    }
   ],
   "source": [
    "chirp_direction = 'chirp_up'\n",
    "data_file_path = r'C:\\Users\\vaish\\dsvv_atomionics\\compiled_data\\compiled_' + f'{chirp_direction}.pkl'\n",
    "data_cols = [\n",
    "\t\t'chirp_rate', 'fraction',\n",
    "\t\t'CA+_mean', 'CA+_std_dev', 'CA+_percentile_0', 'CA+_percentile_10', 'CA+_percentile_20', \n",
    "\t\t'CA+_percentile_30', 'CA+_percentile_40', 'CA+_percentile_50', 'CA+_percentile_60', 'CA+_percentile_70', \n",
    "\t\t'CA+_percentile_80', 'CA+_percentile_90', 'CA+_percentile_100', 'CA-_mean', 'CA-_std_dev', 'CA-_percentile_0', \n",
    "\t\t'CA-_percentile_10', 'CA-_percentile_20', 'CA-_percentile_30', 'CA-_percentile_40', 'CA-_percentile_50', \n",
    "\t\t'CA-_percentile_60', 'CA-_percentile_70', 'CA-_percentile_80', 'CA-_percentile_90', 'CA-_percentile_100'\n",
    "\t]\n",
    "data = pd.DataFrame(pd.read_pickle(data_file_path), columns=data_cols)\n",
    "\n",
    "# 80-20 train/test split\n",
    "train_data_df = data.sample(frac=0.8, random_state=0)\n",
    "test_data_df = data.drop(train_data_df.index)\n",
    "\n",
    "print(train_data_df.shape)\n",
    "# print(train_data.head())\n",
    "print(test_data_df.shape)\n",
    "# print(test_data.head())"
   ]
  },
  {
   "cell_type": "markdown",
   "metadata": {},
   "source": [
    "### Constant parameters"
   ]
  },
  {
   "cell_type": "code",
   "execution_count": 19,
   "metadata": {},
   "outputs": [],
   "source": [
    "# I'm not sure of the calculations here, copied from the original code\n",
    "# constants for evaluation: keff, bigT, chirp_direction\n",
    "speed_of_light_in_vacuum = 299792458\n",
    "f1 = 384.2304844685e12 - 72.9113e6 - 2.56300597908911e9 + 61.625e6\n",
    "f2 = f1 + 6.725e9 + 112.06936e6\n",
    "k1 = 2*np.pi/(speed_of_light_in_vacuum/f1)\n",
    "k2 = 2*np.pi/(speed_of_light_in_vacuum/f2)\n",
    "Keff = k1+k2\n",
    "\n",
    "bigT = 10e-3"
   ]
  },
  {
   "cell_type": "markdown",
   "metadata": {},
   "source": [
    "## Custom Loss Function"
   ]
  },
  {
   "cell_type": "code",
   "execution_count": 20,
   "metadata": {},
   "outputs": [],
   "source": [
    "def sine(alpha, contrast, acc_due_to_gravity, fringe_offset):\n",
    "    phi = (Keff * acc_due_to_gravity - 2 * np.pi * alpha) * (bigT**2)\n",
    "    return (-contrast * np.cos(phi) + fringe_offset)"
   ]
  },
  {
   "cell_type": "code",
   "execution_count": 21,
   "metadata": {},
   "outputs": [],
   "source": [
    "def get_popt_for_best_fit(corrected_chirp_rates: np.ndarray, observed_fractions: np.ndarray):\n",
    "\tcontrast = (np.max(observed_fractions) - np.min(observed_fractions)) / 2\n",
    "\tfringe_offset = np.mean(observed_fractions)\n",
    "\tg_guess = -9.78306 if chirp_direction == 'chirp_down' else 9.77997\n",
    "\tperiod = 780e-9/(2*bigT**2)\n",
    "\n",
    "\tsine_function_parameters = [contrast, g_guess, fringe_offset]\n",
    "\tbounds = ([0, g_guess - 0.501*period, -np.inf], [1, g_guess + 0.501*period, np.inf])\n",
    "\tpopt, _ = curve_fit(sine, corrected_chirp_rates, observed_fractions, p0=sine_function_parameters, maxfev=1000000, bounds=bounds)\n",
    "\treturn popt"
   ]
  },
  {
   "cell_type": "code",
   "execution_count": 22,
   "metadata": {},
   "outputs": [],
   "source": [
    "def calculate_mse_loss_with_popt(outputs: torch.TensorType, observed_fractions: torch.TensorType, *popt):\n",
    "\tprint(popt)\n",
    "\ttensor0 = torch.tensor([Keff * popt[1] * bigT**2 for i in range(len(outputs))], dtype=torch.float32)\n",
    "\ttensor1 = outputs * bigT**2 * 2 * torch.pi\n",
    "\tphi_tensor = torch.cos(tensor0 - tensor1)\n",
    "\tpredicted_fractions_tensor = phi_tensor * (-popt[0]) + popt[2]\n",
    "\tmse_loss = nn.MSELoss()\n",
    "\tloss = mse_loss(predicted_fractions_tensor, observed_fractions)\n",
    "\treturn loss"
   ]
  },
  {
   "cell_type": "markdown",
   "metadata": {},
   "source": [
    "## Benchmark MSE score"
   ]
  },
  {
   "cell_type": "code",
   "execution_count": 23,
   "metadata": {},
   "outputs": [
    {
     "name": "stdout",
     "output_type": "stream",
     "text": [
      "MSE: 0.0075971372770962265\n"
     ]
    }
   ],
   "source": [
    "test_chirp_rates = test_data_df['chirp_rate'].to_numpy()\n",
    "test_fractions = test_data_df['fraction'].to_numpy()\n",
    "popt = get_popt_for_best_fit(test_chirp_rates, test_fractions)\n",
    "\n",
    "residuals = test_fractions - sine(test_chirp_rates, *popt)\n",
    "mse = np.mean(residuals**2)\n",
    "print(f'MSE: {mse}')"
   ]
  },
  {
   "cell_type": "markdown",
   "metadata": {},
   "source": [
    "## Training"
   ]
  },
  {
   "cell_type": "markdown",
   "metadata": {},
   "source": [
    "### Neural Network"
   ]
  },
  {
   "cell_type": "code",
   "execution_count": 24,
   "metadata": {},
   "outputs": [],
   "source": [
    "class TransformationNN(nn.Module):\n",
    "    def __init__(self, input_dim, output_dim):\n",
    "        super(TransformationNN, self).__init__()\n",
    "        # Define the layers of the network: 3 fully connected layers 27 -> 64 -> 64 -> 1\n",
    "        self.fc1 = nn.Linear(input_dim, 64)\n",
    "        self.fc2 = nn.Linear(64, 64)\n",
    "        self.fc3 = nn.Linear(64, output_dim)\n",
    "    \n",
    "    def forward(self, x):\n",
    "        x = torch.tanh(self.fc1(x))\n",
    "        x = torch.tanh(self.fc2(x))\n",
    "        x = self.fc3(x)\n",
    "        return x"
   ]
  },
  {
   "cell_type": "code",
   "execution_count": 25,
   "metadata": {},
   "outputs": [],
   "source": [
    "training_data_tensor = torch.tensor(train_data_df.drop(columns=['fraction']).values, dtype=torch.float32)\n",
    "observed_fractions_tensor = torch.tensor(train_data_df['fraction'].values, dtype=torch.float32)\n",
    "observed_fractions_ndarray = train_data_df['fraction'].to_numpy()"
   ]
  },
  {
   "cell_type": "code",
   "execution_count": 26,
   "metadata": {},
   "outputs": [],
   "source": [
    "# Initialize the neural network\n",
    "model = TransformationNN(input_dim=27, output_dim=1)\n",
    "optimizer = optim.Adam(model.parameters(), lr=0.01)"
   ]
  },
  {
   "cell_type": "code",
   "execution_count": 28,
   "metadata": {},
   "outputs": [
    {
     "name": "stdout",
     "output_type": "stream",
     "text": [
      "(0.9999996966402528, 9.781279726769677, 0.5458904276171672)\n",
      "Epoch [1/50], MSE: 0.0069\n",
      "(0.9999388693243132, 9.781275045614086, 0.5534109281859813)\n",
      "Epoch [2/50], MSE: 0.0069\n",
      "(0.12839251028619958, 9.77996931414185, 0.6573773917927895)\n",
      "Epoch [3/50], MSE: 0.0069\n",
      "(0.9999539207321785, 9.77932933194087, 0.548908018320777)\n",
      "Epoch [4/50], MSE: 0.0069\n",
      "(0.999988178460198, 9.779331141240263, 0.5518034200075803)\n",
      "Epoch [5/50], MSE: 0.0069\n",
      "(0.9999733937114497, 9.779334117873312, 0.5565178668864196)\n",
      "Epoch [6/50], MSE: 0.0069\n",
      "(0.9999886876016091, 9.779328421670035, 0.5473310462361387)\n",
      "Epoch [7/50], MSE: 0.0069\n",
      "(0.9999949578287651, 9.779329439103337, 0.5490676093637435)\n",
      "Epoch [8/50], MSE: 0.0069\n",
      "(0.999991397384715, 9.779331088865192, 0.5517836231878152)\n",
      "Epoch [9/50], MSE: 0.0069\n",
      "(0.9999985723448706, 9.779329672934422, 0.5494975661615097)\n",
      "Epoch [10/50], MSE: 0.0069\n",
      "(0.9999998923769207, 9.77932862839999, 0.5477239322601127)\n",
      "Epoch [11/50], MSE: 0.0069\n",
      "(0.9999455905251193, 9.779334500012588, 0.5570424736960335)\n",
      "Epoch [12/50], MSE: 0.0069\n",
      "(0.9999758013679785, 9.77933296210233, 0.5544308898789952)\n",
      "Epoch [13/50], MSE: 0.0069\n",
      "(0.14269524565170763, 9.779799155394524, 0.6452610958659742)\n",
      "Epoch [14/50], MSE: 0.0069\n",
      "(0.1285291525081659, 9.779966961585801, 0.6572175821803719)\n",
      "Epoch [15/50], MSE: 0.0069\n",
      "(0.12852895074562348, 9.779966969644217, 0.6572130100431323)\n",
      "Epoch [16/50], MSE: 0.0069\n",
      "(0.1283031064623933, 9.779973494201672, 0.6577051401032648)\n",
      "Epoch [17/50], MSE: 0.0069\n",
      "(0.12830307156639387, 9.779973496761643, 0.6577012156959642)\n",
      "Epoch [18/50], MSE: 0.0069\n",
      "(0.12830305954106094, 9.779973497501759, 0.65769754137738)\n",
      "Epoch [19/50], MSE: 0.0069\n",
      "(0.12711031693818617, 9.78061434775272, 0.6587125141381998)\n",
      "Epoch [20/50], MSE: 0.0069\n",
      "(0.12781291754586252, 9.779981998166702, 0.6581585538716153)\n",
      "Epoch [21/50], MSE: 0.0069\n",
      "(0.9998465004415482, 9.78128313128682, 0.5411541970506046)\n",
      "Epoch [22/50], MSE: 0.0069\n",
      "(0.9999846108229804, 9.78127699943131, 0.5510759992276841)\n",
      "Epoch [23/50], MSE: 0.0069\n",
      "(0.9999865615805609, 9.781275885623122, 0.552948930710119)\n",
      "Epoch [24/50], MSE: 0.0069\n",
      "(0.9999419523620505, 9.781279173705363, 0.5477492625703901)\n",
      "Epoch [25/50], MSE: 0.0069\n",
      "(0.9999547217159918, 9.781275664307303, 0.5534707090875003)\n",
      "Epoch [26/50], MSE: 0.0069\n",
      "(0.9999918420082227, 9.781277914632525, 0.5498734801148972)\n",
      "Epoch [27/50], MSE: 0.0069\n",
      "(0.9999568481390528, 9.781280385161509, 0.5459234717708463)\n",
      "Epoch [28/50], MSE: 0.0069\n",
      "(0.9999990172000706, 9.781279195475378, 0.5478642284864603)\n",
      "Epoch [29/50], MSE: 0.0069\n",
      "(0.9999877962739409, 9.781277985304992, 0.5498345747996061)\n",
      "Epoch [30/50], MSE: 0.0069\n",
      "(0.9999893956353867, 9.781277353533637, 0.5508702018927294)\n",
      "Epoch [31/50], MSE: 0.0069\n",
      "(0.9999953302373888, 9.781278098802284, 0.5496938869168727)\n",
      "Epoch [32/50], MSE: 0.0069\n",
      "(0.9999703023844766, 9.78127510915494, 0.5545108722435559)\n",
      "Epoch [33/50], MSE: 0.0069\n",
      "(0.9999741083484804, 9.78127534480208, 0.5541028247996379)\n",
      "Epoch [34/50], MSE: 0.0069\n",
      "(0.9999982590580899, 9.781279296593793, 0.5476306585276454)\n",
      "Epoch [35/50], MSE: 0.0069\n",
      "(0.999615462416161, 9.781275681480043, 0.5533215827302895)\n",
      "Epoch [36/50], MSE: 0.0069\n",
      "(0.999995431757665, 9.781283778261452, 0.5401294809297537)\n",
      "Epoch [37/50], MSE: 0.0069\n",
      "(0.9999926573314541, 9.781281001201718, 0.5444669094688667)\n",
      "Epoch [38/50], MSE: 0.0069\n",
      "(0.9999943374229221, 9.781276501746659, 0.5516625401362502)\n",
      "Epoch [39/50], MSE: 0.0069\n",
      "(0.9999526897292168, 9.781274246818, 0.5552323379558577)\n",
      "Epoch [40/50], MSE: 0.0069\n",
      "(0.9999893406852555, 9.781275682823516, 0.5529310954215982)\n",
      "Epoch [41/50], MSE: 0.0069\n",
      "(0.9999999065770574, 9.781279417273495, 0.54694806541132)\n",
      "Epoch [42/50], MSE: 0.0069\n",
      "(0.9999908068059391, 9.781282964158622, 0.5412746430065395)\n",
      "Epoch [43/50], MSE: 0.0069\n",
      "(0.9999973821159953, 9.781287627298283, 0.5338195142503193)\n",
      "Epoch [44/50], MSE: 0.0069\n",
      "(0.9999929353053313, 9.781277867885274, 0.5496614224858556)\n",
      "Epoch [45/50], MSE: 0.0069\n",
      "(0.9998640692778018, 9.781278642892751, 0.5486115935332355)\n",
      "Epoch [46/50], MSE: 0.0069\n",
      "(0.999998651107879, 9.78127926500728, 0.547757119996647)\n",
      "Epoch [47/50], MSE: 0.0069\n",
      "(0.9999994996867811, 9.78127967618298, 0.5472133888038994)\n",
      "Epoch [48/50], MSE: 0.0069\n",
      "(0.9999830614839987, 9.781285362038497, 0.538208827009722)\n",
      "Epoch [49/50], MSE: 0.0069\n",
      "(0.9999594272665344, 9.781282482620746, 0.5429874766802323)\n",
      "Epoch [50/50], MSE: 0.0069\n"
     ]
    }
   ],
   "source": [
    "\n",
    "num_epochs = 50\n",
    "for epoch in range(num_epochs):\n",
    "    model.train()\n",
    "    \n",
    "    # Forward pass: Compute predicted y by passing x to the model\n",
    "    outputs = model(training_data_tensor)\n",
    "    \n",
    "    outputs_clone = outputs.clone()\n",
    "    corrected_chirp_rates_ndarray = outputs_clone.detach().cpu().squeeze().numpy()\n",
    "    \n",
    "    popt = get_popt_for_best_fit(corrected_chirp_rates_ndarray, observed_fractions_ndarray)    \n",
    "    loss = calculate_mse_loss_with_popt(outputs, observed_fractions_tensor, *popt)\n",
    "    \n",
    "    # Print the loss\n",
    "    print(f'Epoch [{epoch + 1}/{num_epochs}], MSE: {loss.item():.4f}')\n",
    "\n",
    "    # Zero gradients, perform a backward pass, and update the weights\n",
    "    optimizer.zero_grad()\n",
    "    loss.backward()\n",
    "    optimizer.step()"
   ]
  },
  {
   "cell_type": "markdown",
   "metadata": {},
   "source": [
    "### Genetic Algorithm"
   ]
  }
 ],
 "metadata": {
  "kernelspec": {
   "display_name": "Python 3",
   "language": "python",
   "name": "python3"
  },
  "language_info": {
   "codemirror_mode": {
    "name": "ipython",
    "version": 3
   },
   "file_extension": ".py",
   "mimetype": "text/x-python",
   "name": "python",
   "nbconvert_exporter": "python",
   "pygments_lexer": "ipython3",
   "version": "3.8.0"
  }
 },
 "nbformat": 4,
 "nbformat_minor": 2
}
