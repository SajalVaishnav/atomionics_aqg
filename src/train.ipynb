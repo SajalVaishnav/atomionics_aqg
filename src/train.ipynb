{
 "cells": [
  {
   "cell_type": "code",
   "execution_count": 1,
   "metadata": {},
   "outputs": [],
   "source": [
    "import numpy as np\n",
    "import pandas as pd\n",
    "import torch\n",
    "import torch.nn as nn\n",
    "import torch.optim as optim\n",
    "import os\n",
    "from scipy.optimize import curve_fit"
   ]
  },
  {
   "cell_type": "markdown",
   "metadata": {},
   "source": [
    "## Data preparation"
   ]
  },
  {
   "cell_type": "markdown",
   "metadata": {},
   "source": [
    "### Load data"
   ]
  },
  {
   "cell_type": "code",
   "execution_count": 14,
   "metadata": {},
   "outputs": [
    {
     "name": "stdout",
     "output_type": "stream",
     "text": [
      "(63, 28)\n",
      "(16, 28)\n"
     ]
    }
   ],
   "source": [
    "chirp_direction = 'chirp_up'\n",
    "data_file_path = r'C:\\Users\\vaish\\dsvv_atomionics\\compiled_data\\compiled_' + f'{chirp_direction}.pkl'\n",
    "data_cols = [\n",
    "\t\t'chirp_rate', 'fraction',\n",
    "\t\t'CA+_mean', 'CA+_std_dev', 'CA+_percentile_0', 'CA+_percentile_10', 'CA+_percentile_20', \n",
    "\t\t'CA+_percentile_30', 'CA+_percentile_40', 'CA+_percentile_50', 'CA+_percentile_60', 'CA+_percentile_70', \n",
    "\t\t'CA+_percentile_80', 'CA+_percentile_90', 'CA+_percentile_100', 'CA-_mean', 'CA-_std_dev', 'CA-_percentile_0', \n",
    "\t\t'CA-_percentile_10', 'CA-_percentile_20', 'CA-_percentile_30', 'CA-_percentile_40', 'CA-_percentile_50', \n",
    "\t\t'CA-_percentile_60', 'CA-_percentile_70', 'CA-_percentile_80', 'CA-_percentile_90', 'CA-_percentile_100'\n",
    "\t]\n",
    "data = pd.DataFrame(pd.read_pickle(data_file_path), columns=data_cols)\n",
    "\n",
    "# 80-20 train/test split\n",
    "train_data_df = data.sample(frac=0.8, random_state=0)\n",
    "test_data_df = data.drop(train_data_df.index)\n",
    "\n",
    "print(train_data_df.shape)\n",
    "# print(train_data.head())\n",
    "print(test_data_df.shape)\n",
    "# print(test_data.head())"
   ]
  },
  {
   "cell_type": "markdown",
   "metadata": {},
   "source": [
    "### Constant parameters"
   ]
  },
  {
   "cell_type": "code",
   "execution_count": null,
   "metadata": {},
   "outputs": [],
   "source": [
    "# I'm not sure of the calculations here, copied from the original code\n",
    "# constants for evaluation: keff, bigT, chirp_direction\n",
    "speed_of_light_in_vacuum = 299792458\n",
    "f1 = 384.2304844685e12 - 72.9113e6 - 2.56300597908911e9 + 61.625e6\n",
    "f2 = f1 + 6.725e9 + 112.06936e6\n",
    "k1 = 2*np.pi/(speed_of_light_in_vacuum/f1)\n",
    "k2 = 2*np.pi/(speed_of_light_in_vacuum/f2)\n",
    "Keff = k1+k2\n",
    "\n",
    "bigT = 10e-3"
   ]
  },
  {
   "cell_type": "markdown",
   "metadata": {},
   "source": [
    "## Custom Loss Function"
   ]
  },
  {
   "cell_type": "code",
   "execution_count": null,
   "metadata": {},
   "outputs": [],
   "source": [
    "def sine(alpha, contrast, acc_due_to_gravity, fringe_offset):\n",
    "    phi = (Keff * acc_due_to_gravity - 2 * np.pi * alpha) * (bigT**2)\n",
    "    return (-contrast * np.cos(phi) + fringe_offset)"
   ]
  },
  {
   "cell_type": "code",
   "execution_count": null,
   "metadata": {},
   "outputs": [],
   "source": [
    "def get_popt_for_best_fit(corrected_chirp_rates: np.ndarray, observed_fractions: np.ndarray):\n",
    "\tcontrast = (np.max(observed_fractions) - np.min(observed_fractions)) / 2\n",
    "\tfringe_offset = np.mean(observed_fractions)\n",
    "\tg_guess = -9.78306 if chirp_direction == 'chirp_down' else 9.77997\n",
    "\tperiod = 780e-9/(2*bigT**2)\n",
    "\n",
    "\tsine_function_parameters = [contrast, g_guess, fringe_offset]\n",
    "\tbounds = ([0, g_guess - 0.501*period, -np.inf], [1, g_guess + 0.501*period, np.inf])\n",
    "\tpopt, _ = curve_fit(sine, corrected_chirp_rates, observed_fractions, p0=sine_function_parameters, maxfev=1000000, bounds=bounds)\n",
    "\treturn popt"
   ]
  },
  {
   "cell_type": "code",
   "execution_count": null,
   "metadata": {},
   "outputs": [],
   "source": [
    "def calculate_mse_loss_with_popt(outputs: torch.TensorType, observed_fractions: torch.TensorType, *popt):\n",
    "\tprint(popt)\n",
    "\ttensor0 = torch.tensor([Keff * popt[1] * bigT**2 for i in range(len(outputs))], dtype=torch.float32)\n",
    "\ttensor1 = outputs * bigT**2 * 2 * torch.pi\n",
    "\tphi_tensor = torch.cos(tensor0 - tensor1)\n",
    "\tpredicted_fractions_tensor = phi_tensor * (-popt[0]) + popt[2]\n",
    "\tmse_loss = nn.MSELoss()\n",
    "\tloss = mse_loss(predicted_fractions_tensor, observed_fractions)\n",
    "\treturn loss"
   ]
  },
  {
   "cell_type": "markdown",
   "metadata": {},
   "source": [
    "## Benchmark MSE score"
   ]
  },
  {
   "cell_type": "code",
   "execution_count": 16,
   "metadata": {},
   "outputs": [
    {
     "name": "stdout",
     "output_type": "stream",
     "text": [
      "MSE: 0.007109255364012863\n"
     ]
    }
   ],
   "source": [
    "test_chirp_rates = test_data_df['chirp_rate'].to_numpy()\n",
    "test_fractions = test_data_df['fraction'].to_numpy()\n",
    "popt = get_popt_for_best_fit(test_chirp_rates, test_fractions)\n",
    "\n",
    "residuals = test_fractions - sine(test_chirp_rates, *popt)\n",
    "mse = np.mean(residuals**2)\n",
    "print(f'MSE: {mse}')"
   ]
  },
  {
   "cell_type": "markdown",
   "metadata": {},
   "source": [
    "## Training"
   ]
  },
  {
   "cell_type": "markdown",
   "metadata": {},
   "source": [
    "### Neural Network"
   ]
  },
  {
   "cell_type": "code",
   "execution_count": null,
   "metadata": {},
   "outputs": [],
   "source": [
    "class TransformationNN(nn.Module):\n",
    "    def __init__(self, input_dim, output_dim):\n",
    "        super(TransformationNN, self).__init__()\n",
    "        # Define the layers of the network: 3 fully connected layers 27 -> 64 -> 64 -> 1\n",
    "        self.fc1 = nn.Linear(input_dim, 64)\n",
    "        self.fc2 = nn.Linear(64, 64)\n",
    "        self.fc3 = nn.Linear(64, output_dim)\n",
    "    \n",
    "    def forward(self, x):\n",
    "        x = torch.tanh(self.fc1(x))\n",
    "        x = torch.tanh(self.fc2(x))\n",
    "        x = self.fc3(x)\n",
    "        return x"
   ]
  },
  {
   "cell_type": "code",
   "execution_count": null,
   "metadata": {},
   "outputs": [],
   "source": [
    "training_data_tensor = torch.tensor(train_data_df.drop(columns=['fraction']).values, dtype=torch.float32)\n",
    "observed_fractions_tensor = torch.tensor(train_data_df['fraction'].values, dtype=torch.float32)\n",
    "observed_fractions_ndarray = train_data_df['fraction'].to_numpy()"
   ]
  },
  {
   "cell_type": "code",
   "execution_count": null,
   "metadata": {},
   "outputs": [],
   "source": [
    "# Initialize the neural network\n",
    "model = TransformationNN(input_dim=27, output_dim=1)\n",
    "optimizer = optim.Adam(model.parameters(), lr=0.01)"
   ]
  },
  {
   "cell_type": "code",
   "execution_count": null,
   "metadata": {},
   "outputs": [
    {
     "name": "stdout",
     "output_type": "stream",
     "text": [
      "(0.9999999987234874, 9.779328702815338, 0.5565219132815651)\n",
      "Epoch [1/10], MSE: 0.0063\n",
      "(0.9999992247590119, 9.779327206883245, 0.5533873427543377)\n",
      "Epoch [2/10], MSE: 0.0063\n",
      "(0.9999836580306009, 9.779327402711502, 0.5540719384797644)\n",
      "Epoch [3/10], MSE: 0.0063\n"
     ]
    },
    {
     "name": "stderr",
     "output_type": "stream",
     "text": [
      "c:\\Users\\vaish\\AppData\\Local\\Programs\\Python\\Python38\\lib\\site-packages\\torch\\nn\\modules\\loss.py:535: UserWarning: Using a target size (torch.Size([63])) that is different to the input size (torch.Size([63, 63])). This will likely lead to incorrect results due to broadcasting. Please ensure they have the same size.\n",
      "  return F.mse_loss(input, target, reduction=self.reduction)\n"
     ]
    },
    {
     "name": "stdout",
     "output_type": "stream",
     "text": [
      "(0.999991717389824, 9.779326938863631, 0.5534702339827707)\n",
      "Epoch [4/10], MSE: 0.0063\n",
      "(0.9999995224656045, 9.781277636613908, 0.5536143492630391)\n",
      "Epoch [5/10], MSE: 0.0063\n",
      "(0.9999803283969395, 9.781276221171815, 0.5558222759562409)\n",
      "Epoch [6/10], MSE: 0.0063\n",
      "(0.9999999787329349, 9.781278999476632, 0.5514831239388188)\n",
      "Epoch [7/10], MSE: 0.0063\n",
      "(0.9999663025313382, 9.781274553192866, 0.55853448975553)\n",
      "Epoch [8/10], MSE: 0.0063\n",
      "(0.13574413192951723, 9.779794937122182, 0.6464742729484514)\n",
      "Epoch [9/10], MSE: 0.0063\n",
      "(0.9999505587606222, 9.779327817238034, 0.5548619233677138)\n",
      "Epoch [10/10], MSE: 0.0063\n"
     ]
    }
   ],
   "source": [
    "\n",
    "num_epochs = 10\n",
    "for epoch in range(num_epochs):\n",
    "    model.train()\n",
    "    \n",
    "    # Forward pass: Compute predicted y by passing x to the model\n",
    "    outputs = model(training_data_tensor)\n",
    "    \n",
    "    outputs_clone = outputs.clone()\n",
    "    corrected_chirp_rates_ndarray = outputs_clone.detach().cpu().squeeze().numpy()\n",
    "    \n",
    "    popt = get_popt_for_best_fit(corrected_chirp_rates_ndarray, observed_fractions_ndarray)    \n",
    "    loss = calculate_mse_loss_with_popt(outputs, observed_fractions_tensor, *popt)\n",
    "    \n",
    "    # Print the loss\n",
    "    print(f'Epoch [{epoch + 1}/{num_epochs}], MSE: {loss.item():.4f}')\n",
    "\n",
    "    # Zero gradients, perform a backward pass, and update the weights\n",
    "    optimizer.zero_grad()\n",
    "    loss.backward()\n",
    "    optimizer.step()"
   ]
  },
  {
   "cell_type": "markdown",
   "metadata": {},
   "source": [
    "### Genetic Algorithm"
   ]
  }
 ],
 "metadata": {
  "kernelspec": {
   "display_name": "Python 3",
   "language": "python",
   "name": "python3"
  },
  "language_info": {
   "codemirror_mode": {
    "name": "ipython",
    "version": 3
   },
   "file_extension": ".py",
   "mimetype": "text/x-python",
   "name": "python",
   "nbconvert_exporter": "python",
   "pygments_lexer": "ipython3",
   "version": "3.8.0"
  }
 },
 "nbformat": 4,
 "nbformat_minor": 2
}
