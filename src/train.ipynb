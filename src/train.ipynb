{
 "cells": [
  {
   "cell_type": "code",
   "execution_count": 1,
   "metadata": {},
   "outputs": [],
   "source": [
    "import numpy as np\n",
    "import pandas as pd\n",
    "import torch\n",
    "import torch.nn as nn\n",
    "import torch.optim as optim\n",
    "import matplotlib.pyplot as plt"
   ]
  },
  {
   "cell_type": "code",
   "execution_count": 2,
   "metadata": {},
   "outputs": [],
   "source": [
    "GLOBAL_FLOAT_PRECISION_NUMPY = np.float64"
   ]
  },
  {
   "cell_type": "code",
   "execution_count": 3,
   "metadata": {},
   "outputs": [],
   "source": [
    "torch.set_default_dtype(torch.float64)"
   ]
  },
  {
   "cell_type": "markdown",
   "metadata": {},
   "source": [
    "## Data preparation"
   ]
  },
  {
   "cell_type": "markdown",
   "metadata": {},
   "source": [
    "### Load data"
   ]
  },
  {
   "cell_type": "code",
   "execution_count": 4,
   "metadata": {},
   "outputs": [
    {
     "name": "stdout",
     "output_type": "stream",
     "text": [
      "(63, 29)\n",
      "    master_run_number  chirp_rate  fraction     CA+_mean  CA+_std_dev  \\\n",
      "49              15795  25094440.0  0.548201  4272.430706  2031.386231   \n",
      "27              15795  25092480.0  0.558369  4270.678466  2043.572723   \n",
      "30              15795  25096260.0  0.578843  4851.886235  1986.219204   \n",
      "63              15795  25091500.0  0.645726  4291.362353  2035.944694   \n",
      "45              15795  25093320.0  0.497269  4505.367316  2011.287619   \n",
      "\n",
      "    CA+_percentile_0  CA+_percentile_10  CA+_percentile_20  CA+_percentile_30  \\\n",
      "49           -3165.0             1681.0             2582.0             3225.0   \n",
      "27           -3458.0             1694.0             2571.0             3215.0   \n",
      "30           -3417.0             2322.0             3183.0             3815.0   \n",
      "63           -2894.0             1705.0             2622.0             3233.0   \n",
      "45           -2498.0             1956.0             2845.0             3459.0   \n",
      "\n",
      "    CA+_percentile_40  ...  CA-_percentile_10  CA-_percentile_20  \\\n",
      "49             3762.0  ...              292.0              320.0   \n",
      "27             3750.0  ...              287.0              319.0   \n",
      "30             4362.0  ...              283.0              315.0   \n",
      "63             3758.0  ...              288.0              320.0   \n",
      "45             3984.0  ...              292.0              325.0   \n",
      "\n",
      "    CA-_percentile_30  CA-_percentile_40  CA-_percentile_50  \\\n",
      "49              345.0              365.0              385.0   \n",
      "27              339.0              360.0              380.0   \n",
      "30              339.0              360.0              376.0   \n",
      "63              345.0              361.0              377.0   \n",
      "45              349.0              369.0              385.0   \n",
      "\n",
      "    CA-_percentile_60  CA-_percentile_70  CA-_percentile_80  \\\n",
      "49              402.0              422.0              446.0   \n",
      "27              396.0              416.0              440.0   \n",
      "30              392.0              412.0              436.0   \n",
      "63              398.0              418.0              442.0   \n",
      "45              406.0              426.0              446.0   \n",
      "\n",
      "    CA-_percentile_90  CA-_percentile_100  \n",
      "49              479.0             32767.0  \n",
      "27              473.0             32767.0  \n",
      "30              469.0             32767.0  \n",
      "63              475.0             32767.0  \n",
      "45              483.0             32767.0  \n",
      "\n",
      "[5 rows x 29 columns]\n",
      "(16, 29)\n"
     ]
    }
   ],
   "source": [
    "chirp_direction = 'chirp_up'\n",
    "data_file_path = r'C:\\Users\\vaish\\dsvv_atomionics\\compiled_data\\compiled_' + f'{chirp_direction}.pkl'\n",
    "data_cols = [\n",
    "\t\t'master_run_number', 'chirp_rate', 'fraction',\n",
    "\t\t'CA+_mean', 'CA+_std_dev', 'CA+_percentile_0', 'CA+_percentile_10', 'CA+_percentile_20', \n",
    "\t\t'CA+_percentile_30', 'CA+_percentile_40', 'CA+_percentile_50', 'CA+_percentile_60', 'CA+_percentile_70', \n",
    "\t\t'CA+_percentile_80', 'CA+_percentile_90', 'CA+_percentile_100', 'CA-_mean', 'CA-_std_dev', 'CA-_percentile_0', \n",
    "\t\t'CA-_percentile_10', 'CA-_percentile_20', 'CA-_percentile_30', 'CA-_percentile_40', 'CA-_percentile_50', \n",
    "\t\t'CA-_percentile_60', 'CA-_percentile_70', 'CA-_percentile_80', 'CA-_percentile_90', 'CA-_percentile_100'\n",
    "\t]\n",
    "\n",
    "data = pd.DataFrame(pd.read_pickle(data_file_path), columns=data_cols, dtype=GLOBAL_FLOAT_PRECISION_NUMPY)\n",
    "data = data.astype({'master_run_number': 'int32'})\n",
    "\n",
    "# 80-20 train/test split\n",
    "train_data_df = data.sample(frac=0.8, random_state=0)\n",
    "test_data_df = data.drop(train_data_df.index)\n",
    "\n",
    "print(train_data_df.shape)\n",
    "print(train_data_df.head())\n",
    "print(test_data_df.shape)\n",
    "# print(test_data_df.head())"
   ]
  },
  {
   "cell_type": "code",
   "execution_count": 5,
   "metadata": {},
   "outputs": [
    {
     "name": "stdout",
     "output_type": "stream",
     "text": [
      "(2, 7)\n",
      "   master_run chirp_direction  bigT          Keff  contrast        g0  \\\n",
      "0       15795        chirp_up  0.01  1.610579e+07  0.077362  9.781717   \n",
      "1       15795      chirp_down  0.01  1.610579e+07  0.071496 -9.785014   \n",
      "\n",
      "   fringe_offset  \n",
      "0        0.59805  \n",
      "1        0.55894  \n"
     ]
    }
   ],
   "source": [
    "compiled_constants_csv_path = r'C:\\Users\\vaish\\dsvv_atomionics\\compiled_data\\compiled_constants.csv'\n",
    "compiled_constants_df = pd.read_csv(compiled_constants_csv_path)\n",
    "compiled_constants_dtypes = {\n",
    "\t'master_run': 'int32',\n",
    "\t'chirp_direction': 'str',\n",
    "\t'bigT': GLOBAL_FLOAT_PRECISION_NUMPY,\n",
    "\t'Keff': GLOBAL_FLOAT_PRECISION_NUMPY,\n",
    "\t'contrast': GLOBAL_FLOAT_PRECISION_NUMPY,\n",
    "\t'g0': GLOBAL_FLOAT_PRECISION_NUMPY,\n",
    "\t'fringe_offset': GLOBAL_FLOAT_PRECISION_NUMPY\n",
    "}\n",
    "compiled_constants_df = compiled_constants_df.astype(compiled_constants_dtypes)\n",
    "\n",
    "print(compiled_constants_df.shape)\n",
    "print(compiled_constants_df.head())"
   ]
  },
  {
   "cell_type": "markdown",
   "metadata": {},
   "source": [
    "## Converting chirp rates to fractions"
   ]
  },
  {
   "cell_type": "code",
   "execution_count": 6,
   "metadata": {},
   "outputs": [],
   "source": [
    "def sine(alpha, Keff, bigT, contrast, g0, fringe_offset):\n",
    "    phi = (Keff * g0 - 2 * torch.pi * alpha) * (bigT**2)\n",
    "    # # To check that we are getting the expected values for phi\n",
    "    # phi_as_pi_multiples = phi / np.pi\n",
    "    # print(f'phi: {phi_as_pi_multiples}')\n",
    "    return (-contrast * torch.cos(phi) + fringe_offset)"
   ]
  },
  {
   "cell_type": "code",
   "execution_count": 7,
   "metadata": {},
   "outputs": [],
   "source": [
    "def get_chirp_rates_from_noise(outputs, data_df):\n",
    "\tcorrected_chirp_rates = outputs + torch.tensor(data_df['chirp_rate'].values).view(-1, 1)\n",
    "\treturn corrected_chirp_rates"
   ]
  },
  {
   "cell_type": "code",
   "execution_count": 40,
   "metadata": {},
   "outputs": [
    {
     "name": "stdout",
     "output_type": "stream",
     "text": [
      "torch.Size([3, 1])\n",
      "   chirp_rate\n",
      "0           1\n",
      "1           2\n",
      "2           3\n",
      "tensor([[2],\n",
      "        [4],\n",
      "        [6]])\n"
     ]
    }
   ],
   "source": [
    "# shitty impromptu unit testing \n",
    "t1 = torch.tensor([[1], [2], [3]])\n",
    "print(t1.shape)\n",
    "t2 = pd.DataFrame([1, 2, 3], columns=['chirp_rate'])\n",
    "print(t2)\n",
    "t3 = get_chirp_rates_from_noise(t1, t2)\n",
    "print(t3)"
   ]
  },
  {
   "cell_type": "code",
   "execution_count": 9,
   "metadata": {},
   "outputs": [],
   "source": [
    "def get_predicted_fractions_from_chirp_rates(chirp_rates, data_df):\n",
    "\tpredicted_fractions = []\n",
    "\tfor index in range(chirp_rates.shape[0]):\n",
    "\t\tdata_row = data_df.iloc[index]\n",
    "\t\tmaster_run = data_row['master_run_number']\n",
    "\t\tcompiled_constants_row = compiled_constants_df[(compiled_constants_df['master_run'] == master_run) & (compiled_constants_df['chirp_direction'] == chirp_direction)]\n",
    "\n",
    "\t\tKeff = compiled_constants_row['Keff'].item()\n",
    "\t\tbigT = compiled_constants_row['bigT'].item()\n",
    "\t\tcontrast = compiled_constants_row['contrast'].item()\n",
    "\t\tg0 = compiled_constants_row['g0'].item()\n",
    "\t\tfringe_offset = compiled_constants_row['fringe_offset'].item()\n",
    "\t\talpha = chirp_rates[index]\n",
    "\t\tpredicted_fraction = sine(alpha, Keff, bigT, contrast, g0, fringe_offset)\n",
    "\t\tpredicted_fractions.append(predicted_fraction)\n",
    "\t\n",
    "\tpredicted_fractions_tensor = torch.stack(predicted_fractions, 0)\n",
    "\treturn predicted_fractions_tensor\n"
   ]
  },
  {
   "cell_type": "code",
   "execution_count": 10,
   "metadata": {},
   "outputs": [
    {
     "name": "stdout",
     "output_type": "stream",
     "text": [
      "torch.Size([3, 1])\n",
      "16105786.351132 0.01 0.077362 9.781717 0.59805\n",
      "1: 0.6483259365980047\n",
      "16105786.351132 0.01 0.077362 9.781717 0.59805\n",
      "2: 0.6482889827797012\n",
      "16105786.351132 0.01 0.077362 9.781717 0.59805\n",
      "3: 0.6482520091278429\n",
      "\n",
      "\n",
      "\n",
      "0.648325936598004748\n",
      "0.648288982779701151\n",
      "0.648252009127842865\n"
     ]
    }
   ],
   "source": [
    "# shitty impromptu unit testing\n",
    "master_run = 15795\n",
    "t1 = torch.tensor([[1], [2], [3]])\n",
    "print(t1.shape)\n",
    "for i in range(1,4):\n",
    "\tcompiled_constants_row = compiled_constants_df[(compiled_constants_df['master_run'] == master_run) & (compiled_constants_df['chirp_direction'] == chirp_direction)]\n",
    "\tKeff = compiled_constants_row['Keff'].item()\n",
    "\tbigT = compiled_constants_row['bigT'].item()\n",
    "\tcontrast = compiled_constants_row['contrast'].item()\n",
    "\tg0 = compiled_constants_row['g0'].item()\n",
    "\tfringe_offset = compiled_constants_row['fringe_offset'].item()\n",
    "\tprint(Keff, bigT, contrast, g0, fringe_offset)\n",
    "\talpha = torch.tensor(i)\n",
    "\tpredicted_fraction = sine(alpha, Keff, bigT, contrast, g0, fringe_offset)\n",
    "\tprint(f'{alpha}: {predicted_fraction}')\n",
    "\n",
    "print(f'\\n\\n')\n",
    "t2 = get_predicted_fractions_from_chirp_rates(t1, data)\n",
    "print(f'{t2[0].item():.18f}')\n",
    "print(f'{t2[1].item():.18f}')\n",
    "print(f'{t2[2].item():.18f}')"
   ]
  },
  {
   "cell_type": "code",
   "execution_count": 11,
   "metadata": {},
   "outputs": [
    {
     "name": "stdout",
     "output_type": "stream",
     "text": [
      "torch.Size([6, 1])\n",
      "torch.Size([6, 1])\n"
     ]
    },
    {
     "data": {
      "text/plain": [
       "tensor([[-6.1573e-06],\n",
       "        [-6.1573e-06],\n",
       "        [-6.1606e-06],\n",
       "        [-6.1606e-06],\n",
       "        [-6.1870e-06],\n",
       "        [-6.1870e-06]])"
      ]
     },
     "execution_count": 11,
     "metadata": {},
     "output_type": "execute_result"
    }
   ],
   "source": [
    "# A little test you can run, to verify that gradients do propagate through this transformation\n",
    "# https://stackoverflow.com/questions/70426391/how-to-transform-output-of-nn-while-still-being-able-to-train\n",
    "\n",
    "# start with some random tensor representing the input predictions\n",
    "# make sure it requires_grad\n",
    "pred = torch.tensor([[1.0],[1.0],[2.0],[2.0],[10.0],[10.0]]).requires_grad_(True)\n",
    "print(pred.shape)\n",
    "# transform it\n",
    "tpred = get_predicted_fractions_from_chirp_rates(pred, train_data_df)\n",
    "print(tpred.shape)\n",
    "# make up some \"default\" loss function and back-prop\n",
    "tpred.mean().backward()\n",
    "\n",
    "# check to see all gradients of the original prediction:\n",
    "pred.grad"
   ]
  },
  {
   "cell_type": "code",
   "execution_count": 12,
   "metadata": {},
   "outputs": [
    {
     "name": "stdout",
     "output_type": "stream",
     "text": [
      "torch.Size([63, 1])\n",
      "torch.Size([63, 1])\n"
     ]
    },
    {
     "data": {
      "text/plain": [
       "tensor([[0.0159],\n",
       "        [0.0159],\n",
       "        [0.0159],\n",
       "        [0.0159],\n",
       "        [0.0159],\n",
       "        [0.0159],\n",
       "        [0.0159],\n",
       "        [0.0159],\n",
       "        [0.0159],\n",
       "        [0.0159],\n",
       "        [0.0159],\n",
       "        [0.0159],\n",
       "        [0.0159],\n",
       "        [0.0159],\n",
       "        [0.0159],\n",
       "        [0.0159],\n",
       "        [0.0159],\n",
       "        [0.0159],\n",
       "        [0.0159],\n",
       "        [0.0159],\n",
       "        [0.0159],\n",
       "        [0.0159],\n",
       "        [0.0159],\n",
       "        [0.0159],\n",
       "        [0.0159],\n",
       "        [0.0159],\n",
       "        [0.0159],\n",
       "        [0.0159],\n",
       "        [0.0159],\n",
       "        [0.0159],\n",
       "        [0.0159],\n",
       "        [0.0159],\n",
       "        [0.0159],\n",
       "        [0.0159],\n",
       "        [0.0159],\n",
       "        [0.0159],\n",
       "        [0.0159],\n",
       "        [0.0159],\n",
       "        [0.0159],\n",
       "        [0.0159],\n",
       "        [0.0159],\n",
       "        [0.0159],\n",
       "        [0.0159],\n",
       "        [0.0159],\n",
       "        [0.0159],\n",
       "        [0.0159],\n",
       "        [0.0159],\n",
       "        [0.0159],\n",
       "        [0.0159],\n",
       "        [0.0159],\n",
       "        [0.0159],\n",
       "        [0.0159],\n",
       "        [0.0159],\n",
       "        [0.0159],\n",
       "        [0.0159],\n",
       "        [0.0159],\n",
       "        [0.0159],\n",
       "        [0.0159],\n",
       "        [0.0159],\n",
       "        [0.0159],\n",
       "        [0.0159],\n",
       "        [0.0159],\n",
       "        [0.0159]])"
      ]
     },
     "execution_count": 12,
     "metadata": {},
     "output_type": "execute_result"
    }
   ],
   "source": [
    "# A little test you can run, to verify that gradients do propagate through this transformation\n",
    "# https://stackoverflow.com/questions/70426391/how-to-transform-output-of-nn-while-still-being-able-to-train\n",
    "\n",
    "# start with some random tensor representing the input predictions\n",
    "# make sure it requires_grad\n",
    "pred = torch.rand((63, 1)).requires_grad_(True)\n",
    "print(pred.shape)\n",
    "# transform it\n",
    "tpred = get_chirp_rates_from_noise(pred, train_data_df)\n",
    "print(tpred.shape)\n",
    "# make up some \"default\" loss function and back-prop\n",
    "tpred.mean().backward()\n",
    "\n",
    "# check to see all gradients of the original prediction:\n",
    "pred.grad"
   ]
  },
  {
   "cell_type": "markdown",
   "metadata": {},
   "source": [
    "## MSLE Loss"
   ]
  },
  {
   "cell_type": "code",
   "execution_count": 13,
   "metadata": {},
   "outputs": [],
   "source": [
    "def MSLELoss(pred, target):\n",
    "    return torch.mean((torch.log1p(pred) - torch.log1p(target)) ** 2)"
   ]
  },
  {
   "cell_type": "markdown",
   "metadata": {},
   "source": [
    "## Benchmark MSE score"
   ]
  },
  {
   "cell_type": "code",
   "execution_count": 14,
   "metadata": {},
   "outputs": [],
   "source": [
    "test_chirp_rates = torch.tensor(test_data_df['chirp_rate'].values).view(-1, 1)\n",
    "test_fractions = torch.tensor(test_data_df['fraction'].values).view(-1, 1)"
   ]
  },
  {
   "cell_type": "code",
   "execution_count": 15,
   "metadata": {},
   "outputs": [
    {
     "name": "stdout",
     "output_type": "stream",
     "text": [
      "torch.Size([16, 1])\n"
     ]
    }
   ],
   "source": [
    "print(test_chirp_rates.shape)"
   ]
  },
  {
   "cell_type": "code",
   "execution_count": 16,
   "metadata": {},
   "outputs": [],
   "source": [
    "def get_baseline_score(predicted_tensor, target_tensor, loss_fn):\n",
    "\tloss = loss_fn(predicted_tensor, target_tensor)\n",
    "\treturn loss.item()"
   ]
  },
  {
   "cell_type": "code",
   "execution_count": 17,
   "metadata": {},
   "outputs": [
    {
     "name": "stdout",
     "output_type": "stream",
     "text": [
      "MSE baseline score: 0.00830978710839569\n",
      "MSLE baseline score: 0.003451160028686132\n"
     ]
    }
   ],
   "source": [
    "predicted_fractions_tensor = get_predicted_fractions_from_chirp_rates(test_chirp_rates, test_data_df)\n",
    "\n",
    "MSELoss = nn.MSELoss()\n",
    "mse_baseline_score = get_baseline_score(predicted_fractions_tensor, test_fractions, MSELoss)\n",
    "print(f'MSE baseline score: {mse_baseline_score}')\n",
    "\n",
    "msle_baseline_score = get_baseline_score(predicted_fractions_tensor, test_fractions, MSLELoss)\n",
    "print(f'MSLE baseline score: {msle_baseline_score}')"
   ]
  },
  {
   "cell_type": "markdown",
   "metadata": {},
   "source": [
    "## Training"
   ]
  },
  {
   "cell_type": "markdown",
   "metadata": {},
   "source": [
    "### Neural Network"
   ]
  },
  {
   "cell_type": "code",
   "execution_count": 41,
   "metadata": {},
   "outputs": [],
   "source": [
    "class TransformationNN(nn.Module):\n",
    "    def __init__(self, input_dim, output_dim):\n",
    "        super(TransformationNN, self).__init__()\n",
    "        self.fc1 = nn.Linear(input_dim, 64)\n",
    "        self.fc2 = nn.Linear(64, 64)\n",
    "        self.fc3 = nn.Linear(64, 64)\n",
    "        self.fc4 = nn.Linear(64, output_dim)\n",
    "        \n",
    "    \n",
    "    def forward(self, x):\n",
    "        x = torch.tanh(self.fc1(x))\n",
    "        x = torch.relu(self.fc2(x))\n",
    "        x = torch.tanh(self.fc3(x))\n",
    "        x = self.fc4(x)\n",
    "        return x"
   ]
  },
  {
   "cell_type": "code",
   "execution_count": 42,
   "metadata": {},
   "outputs": [],
   "source": [
    "# select columns chirp_rate, CA+_mean, CA+_std_dev, CA-_mean, CA-_std_dev\n",
    "training_data_tensor = torch.tensor(train_data_df[['CA+_mean', 'CA+_std_dev','CA+_percentile_0', 'CA+_percentile_100', 'CA-_mean', 'CA-_std_dev', 'CA-_percentile_0', 'CA-_percentile_100']].values)\n",
    "observed_fractions_tensor = torch.tensor(train_data_df['fraction'].values).view(-1, 1)"
   ]
  },
  {
   "cell_type": "code",
   "execution_count": 43,
   "metadata": {},
   "outputs": [],
   "source": [
    "model = TransformationNN(input_dim=8, output_dim=1)\n",
    "optimizer = optim.Adam(model.parameters(), lr=0.9)\n",
    "MSELoss = nn.MSELoss()\n",
    "HuberLoss = nn.SmoothL1Loss()"
   ]
  },
  {
   "cell_type": "code",
   "execution_count": 46,
   "metadata": {},
   "outputs": [],
   "source": [
    "def train(model, optimizer, loss_fn, epochs, training_data_tensor, observed_fractions_tensor):\n",
    "\tloss_values = []\n",
    "\tfor epoch in range(epochs):\n",
    "\t\tmodel.train()\n",
    "\n",
    "\t\t# Forward pass: Compute predicted y by passing x to the model\n",
    "\t\tnoise_corrections = model(training_data_tensor)\n",
    "\t\tprint(noise_corrections[0])\n",
    "\t\tchirp_rates = get_chirp_rates_from_noise(noise_corrections, train_data_df)\n",
    "\t\tpredicted_fractions_tensor = get_predicted_fractions_from_chirp_rates(chirp_rates, train_data_df)\n",
    "\t\tloss = loss_fn(predicted_fractions_tensor, observed_fractions_tensor)\n",
    "\t\tloss_values.append(loss.item())\n",
    "\n",
    "\t\toptimizer.zero_grad()\n",
    "\t\tloss.backward()\n",
    "\t\toptimizer.step()\n",
    "\n",
    "\t\tif epoch % (epochs / 10) == 0:\n",
    "\t\t\tprint(f'Epoch [{epoch + 1}/{epochs}], Loss: {loss.item()}')\n",
    "\t\t\tprint(f'noise corrections variation: {torch.var(noise_corrections)}')\n",
    "\t\n",
    "\tplt.figure(figsize=(10, 6))\n",
    "\tplt.plot(range(epochs), loss_values, label='Training Loss')\n",
    "\tplt.xlabel('Epochs')\n",
    "\tplt.ylabel('Loss')\n",
    "\tplt.title('Training Loss vs. Epochs')\n",
    "\tplt.legend()\n",
    "\tplt.show()\n"
   ]
  },
  {
   "cell_type": "code",
   "execution_count": 47,
   "metadata": {},
   "outputs": [
    {
     "name": "stdout",
     "output_type": "stream",
     "text": [
      "tensor([274.9543], grad_fn=<SelectBackward0>)\n",
      "Epoch [1/600], Loss: 0.004537606650085159\n",
      "noise corrections variation: 3.283289981781801e-27\n",
      "tensor([274.9510], grad_fn=<SelectBackward0>)\n",
      "tensor([274.9485], grad_fn=<SelectBackward0>)\n",
      "tensor([274.9471], grad_fn=<SelectBackward0>)\n",
      "tensor([274.9468], grad_fn=<SelectBackward0>)\n",
      "tensor([274.9476], grad_fn=<SelectBackward0>)\n",
      "tensor([274.9492], grad_fn=<SelectBackward0>)\n",
      "tensor([274.9514], grad_fn=<SelectBackward0>)\n",
      "tensor([274.9538], grad_fn=<SelectBackward0>)\n",
      "tensor([274.9560], grad_fn=<SelectBackward0>)\n",
      "tensor([274.9578], grad_fn=<SelectBackward0>)\n",
      "tensor([274.9589], grad_fn=<SelectBackward0>)\n",
      "tensor([274.9592], grad_fn=<SelectBackward0>)\n",
      "tensor([274.9588], grad_fn=<SelectBackward0>)\n",
      "tensor([274.9578], grad_fn=<SelectBackward0>)\n",
      "tensor([274.9564], grad_fn=<SelectBackward0>)\n",
      "tensor([274.9548], grad_fn=<SelectBackward0>)\n",
      "tensor([274.9533], grad_fn=<SelectBackward0>)\n",
      "tensor([274.9521], grad_fn=<SelectBackward0>)\n",
      "tensor([274.9513], grad_fn=<SelectBackward0>)\n",
      "tensor([274.9511], grad_fn=<SelectBackward0>)\n",
      "tensor([274.9513], grad_fn=<SelectBackward0>)\n",
      "tensor([274.9519], grad_fn=<SelectBackward0>)\n",
      "tensor([274.9529], grad_fn=<SelectBackward0>)\n",
      "tensor([274.9539], grad_fn=<SelectBackward0>)\n",
      "tensor([274.9549], grad_fn=<SelectBackward0>)\n",
      "tensor([274.9557], grad_fn=<SelectBackward0>)\n",
      "tensor([274.9562], grad_fn=<SelectBackward0>)\n",
      "tensor([274.9564], grad_fn=<SelectBackward0>)\n",
      "tensor([274.9563], grad_fn=<SelectBackward0>)\n",
      "tensor([274.9559], grad_fn=<SelectBackward0>)\n",
      "tensor([274.9553], grad_fn=<SelectBackward0>)\n",
      "tensor([274.9546], grad_fn=<SelectBackward0>)\n",
      "tensor([274.9539], grad_fn=<SelectBackward0>)\n",
      "tensor([274.9534], grad_fn=<SelectBackward0>)\n",
      "tensor([274.9530], grad_fn=<SelectBackward0>)\n",
      "tensor([274.9529], grad_fn=<SelectBackward0>)\n",
      "tensor([274.9530], grad_fn=<SelectBackward0>)\n"
     ]
    },
    {
     "ename": "KeyboardInterrupt",
     "evalue": "",
     "output_type": "error",
     "traceback": [
      "\u001b[1;31m---------------------------------------------------------------------------\u001b[0m",
      "\u001b[1;31mKeyboardInterrupt\u001b[0m                         Traceback (most recent call last)",
      "Cell \u001b[1;32mIn[47], line 1\u001b[0m\n\u001b[1;32m----> 1\u001b[0m \u001b[43mtrain\u001b[49m\u001b[43m(\u001b[49m\u001b[43mmodel\u001b[49m\u001b[43m,\u001b[49m\u001b[43m \u001b[49m\u001b[43moptimizer\u001b[49m\u001b[43m,\u001b[49m\u001b[43m \u001b[49m\u001b[43mMSELoss\u001b[49m\u001b[43m,\u001b[49m\u001b[43m \u001b[49m\u001b[38;5;241;43m600\u001b[39;49m\u001b[43m,\u001b[49m\u001b[43m \u001b[49m\u001b[43mtraining_data_tensor\u001b[49m\u001b[43m,\u001b[49m\u001b[43m \u001b[49m\u001b[43mobserved_fractions_tensor\u001b[49m\u001b[43m)\u001b[49m\n",
      "Cell \u001b[1;32mIn[46], line 10\u001b[0m, in \u001b[0;36mtrain\u001b[1;34m(model, optimizer, loss_fn, epochs, training_data_tensor, observed_fractions_tensor)\u001b[0m\n\u001b[0;32m      8\u001b[0m \u001b[38;5;28mprint\u001b[39m(noise_corrections[\u001b[38;5;241m0\u001b[39m])\n\u001b[0;32m      9\u001b[0m chirp_rates \u001b[38;5;241m=\u001b[39m get_chirp_rates_from_noise(noise_corrections, train_data_df)\n\u001b[1;32m---> 10\u001b[0m predicted_fractions_tensor \u001b[38;5;241m=\u001b[39m \u001b[43mget_predicted_fractions_from_chirp_rates\u001b[49m\u001b[43m(\u001b[49m\u001b[43mchirp_rates\u001b[49m\u001b[43m,\u001b[49m\u001b[43m \u001b[49m\u001b[43mtrain_data_df\u001b[49m\u001b[43m)\u001b[49m\n\u001b[0;32m     11\u001b[0m loss \u001b[38;5;241m=\u001b[39m loss_fn(predicted_fractions_tensor, observed_fractions_tensor)\n\u001b[0;32m     12\u001b[0m loss_values\u001b[38;5;241m.\u001b[39mappend(loss\u001b[38;5;241m.\u001b[39mitem())\n",
      "Cell \u001b[1;32mIn[9], line 14\u001b[0m, in \u001b[0;36mget_predicted_fractions_from_chirp_rates\u001b[1;34m(chirp_rates, data_df)\u001b[0m\n\u001b[0;32m     12\u001b[0m \tfringe_offset \u001b[38;5;241m=\u001b[39m compiled_constants_row[\u001b[38;5;124m'\u001b[39m\u001b[38;5;124mfringe_offset\u001b[39m\u001b[38;5;124m'\u001b[39m]\u001b[38;5;241m.\u001b[39mitem()\n\u001b[0;32m     13\u001b[0m \talpha \u001b[38;5;241m=\u001b[39m chirp_rates[index]\n\u001b[1;32m---> 14\u001b[0m \tpredicted_fraction \u001b[38;5;241m=\u001b[39m \u001b[43msine\u001b[49m\u001b[43m(\u001b[49m\u001b[43malpha\u001b[49m\u001b[43m,\u001b[49m\u001b[43m \u001b[49m\u001b[43mKeff\u001b[49m\u001b[43m,\u001b[49m\u001b[43m \u001b[49m\u001b[43mbigT\u001b[49m\u001b[43m,\u001b[49m\u001b[43m \u001b[49m\u001b[43mcontrast\u001b[49m\u001b[43m,\u001b[49m\u001b[43m \u001b[49m\u001b[43mg0\u001b[49m\u001b[43m,\u001b[49m\u001b[43m \u001b[49m\u001b[43mfringe_offset\u001b[49m\u001b[43m)\u001b[49m\n\u001b[0;32m     15\u001b[0m \tpredicted_fractions\u001b[38;5;241m.\u001b[39mappend(predicted_fraction)\n\u001b[0;32m     17\u001b[0m predicted_fractions_tensor \u001b[38;5;241m=\u001b[39m torch\u001b[38;5;241m.\u001b[39mstack(predicted_fractions, \u001b[38;5;241m0\u001b[39m)\n",
      "Cell \u001b[1;32mIn[6], line 2\u001b[0m, in \u001b[0;36msine\u001b[1;34m(alpha, Keff, bigT, contrast, g0, fringe_offset)\u001b[0m\n\u001b[0;32m      1\u001b[0m \u001b[38;5;28;01mdef\u001b[39;00m \u001b[38;5;21msine\u001b[39m(alpha, Keff, bigT, contrast, g0, fringe_offset):\n\u001b[1;32m----> 2\u001b[0m     phi \u001b[38;5;241m=\u001b[39m (Keff \u001b[38;5;241m*\u001b[39m g0 \u001b[38;5;241m-\u001b[39m \u001b[38;5;241;43m2\u001b[39;49m\u001b[43m \u001b[49m\u001b[38;5;241;43m*\u001b[39;49m\u001b[43m \u001b[49m\u001b[43mtorch\u001b[49m\u001b[38;5;241;43m.\u001b[39;49m\u001b[43mpi\u001b[49m\u001b[43m \u001b[49m\u001b[38;5;241;43m*\u001b[39;49m\u001b[43m \u001b[49m\u001b[43malpha\u001b[49m) \u001b[38;5;241m*\u001b[39m (bigT\u001b[38;5;241m*\u001b[39m\u001b[38;5;241m*\u001b[39m\u001b[38;5;241m2\u001b[39m)\n\u001b[0;32m      3\u001b[0m     \u001b[38;5;66;03m# # To check that we are getting the expected values for phi\u001b[39;00m\n\u001b[0;32m      4\u001b[0m     \u001b[38;5;66;03m# phi_as_pi_multiples = phi / np.pi\u001b[39;00m\n\u001b[0;32m      5\u001b[0m     \u001b[38;5;66;03m# print(f'phi: {phi_as_pi_multiples}')\u001b[39;00m\n\u001b[0;32m      6\u001b[0m     \u001b[38;5;28;01mreturn\u001b[39;00m (\u001b[38;5;241m-\u001b[39mcontrast \u001b[38;5;241m*\u001b[39m torch\u001b[38;5;241m.\u001b[39mcos(phi) \u001b[38;5;241m+\u001b[39m fringe_offset)\n",
      "\u001b[1;31mKeyboardInterrupt\u001b[0m: "
     ]
    }
   ],
   "source": [
    "train(model, optimizer, MSELoss, 600, training_data_tensor, observed_fractions_tensor)"
   ]
  },
  {
   "cell_type": "markdown",
   "metadata": {},
   "source": [
    "## Evaluation"
   ]
  },
  {
   "cell_type": "code",
   "execution_count": null,
   "metadata": {},
   "outputs": [],
   "source": [
    "def get_model_score(predicted_tensor, target_tensor, loss_fn):\n",
    "\tloss = loss_fn(predicted_tensor, target_tensor)\n",
    "\treturn loss.item()"
   ]
  },
  {
   "cell_type": "code",
   "execution_count": null,
   "metadata": {},
   "outputs": [
    {
     "name": "stdout",
     "output_type": "stream",
     "text": [
      "MSE model score: 0.006713347995702129\n",
      "MSLE model score: 0.0028007717806742185\n"
     ]
    }
   ],
   "source": [
    "test__noise_tensor = torch.tensor(test_data_df[['CA+_mean', 'CA+_std_dev','CA+_percentile_0', 'CA+_percentile_100', 'CA-_mean', 'CA-_std_dev', 'CA-_percentile_0', 'CA-_percentile_100']].values)\n",
    "\n",
    "# Set model to evaluation mode\n",
    "model.eval()\n",
    "\n",
    "# Forward pass through the model\n",
    "with torch.no_grad():\n",
    "    noise_corrections = model(test__noise_tensor)\n",
    "    chirp_rates = get_chirp_rates_from_noise(noise_corrections, test_data_df)\n",
    "    predicted_fractions = get_predicted_fractions_from_chirp_rates(chirp_rates, test_data_df)\n",
    "\n",
    "test_fractions_shape_corrected = test_fractions.view(-1, 1)\n",
    "mse_model_score = get_model_score(predicted_fractions, test_fractions_shape_corrected, MSELoss)\n",
    "print(f'MSE model score: {mse_model_score}')\n",
    "\n",
    "msle_model_score = get_model_score(predicted_fractions, test_fractions_shape_corrected, MSLELoss)\n",
    "print(f'MSLE model score: {msle_model_score}')"
   ]
  },
  {
   "cell_type": "code",
   "execution_count": null,
   "metadata": {},
   "outputs": [],
   "source": [
    "# given a master_un and chirp_direction plot the predicted fraction vs the actual fraction\n",
    "def plot_predicted_vs_actual(master_run_number):\n",
    "\tmaster_run_data = data[data['master_run_number'] == master_run_number]\n",
    "\tchirp_rates_original = torch.tensor(master_run_data['chirp_rate'].values)\n",
    "\tobserved_fractions = master_run_data['fraction'].values\n",
    "\n",
    "\texpected_fractions_with_original_chirp_rates = get_predicted_fractions_from_chirp_rates(torch.tensor(chirp_rates_original), master_run_data)\n",
    "\n",
    "\tmodel.eval()\n",
    "\twith torch.no_grad():\n",
    "\t\tnoise_corrections = model(torch.tensor(master_run_data[['CA+_mean', 'CA+_std_dev','CA+_percentile_0', 'CA+_percentile_100', 'CA-_mean', 'CA-_std_dev', 'CA-_percentile_0', 'CA-_percentile_100']].values))\n",
    "\t\tcorrected_chirp_rates = get_chirp_rates_from_noise(noise_corrections, master_run_data)\n",
    "\t\texpected_fractions_with_corrected_chirp_rates = get_predicted_fractions_from_chirp_rates(corrected_chirp_rates, master_run_data)\n",
    "\t\n",
    "\tplt.figure(figsize=(10, 6))\n",
    "\tplt.scatter(chirp_rates_original, observed_fractions, label='Observed Fractions')\n",
    "\tplt.scatter(chirp_rates_original, expected_fractions_with_original_chirp_rates, label='Predicted Fractions with Original Chirp Rates')\n",
    "\tplt.show()\n",
    "\n",
    "\tprint(corrected_chirp_rates)\n",
    "\tplt.scatter(corrected_chirp_rates, observed_fractions, label='Observed Fractions')\n",
    "\tplt.scatter(corrected_chirp_rates, expected_fractions_with_corrected_chirp_rates, label='Predicted Fractions with Corrected Chirp Rates')\n",
    "\tplt.show()"
   ]
  },
  {
   "cell_type": "code",
   "execution_count": null,
   "metadata": {},
   "outputs": [
    {
     "name": "stderr",
     "output_type": "stream",
     "text": [
      "C:\\Users\\vaish\\AppData\\Local\\Temp\\ipykernel_1216\\1899466795.py:7: UserWarning: To copy construct from a tensor, it is recommended to use sourceTensor.clone().detach() or sourceTensor.clone().detach().requires_grad_(True), rather than torch.tensor(sourceTensor).\n",
      "  expected_fractions_with_original_chirp_rates = get_predicted_fractions_from_chirp_rates(torch.tensor(chirp_rates_original), master_run_data)\n"
     ]
    },
    {
     "data": {
      "image/png": "[encoded data removed]",
      "text/plain": [
       "<Figure size 1000x600 with 1 Axes>"
      ]
     },
     "metadata": {},
     "output_type": "display_data"
    },
    {
     "name": "stdout",
     "output_type": "stream",
     "text": [
      "tensor([[25093077.6465],\n",
      "        [25095807.6465],\n",
      "        [25092447.6465],\n",
      "        [25091257.6465],\n",
      "        [25095947.6465],\n",
      "        [25096087.6465],\n",
      "        [25091887.6465],\n",
      "        [25092377.6465],\n",
      "        [25093217.6465],\n",
      "        [25094057.6465],\n",
      "        [25095317.6465],\n",
      "        [25094267.6465],\n",
      "        [25095667.6465],\n",
      "        [25093567.6465],\n",
      "        [25094127.6465],\n",
      "        [25095247.6465],\n",
      "        [25095107.6465],\n",
      "        [25092167.6465],\n",
      "        [25093987.6465],\n",
      "        [25093287.6465],\n",
      "        [25096017.6465],\n",
      "        [25095457.6465],\n",
      "        [25092587.6465],\n",
      "        [25091187.6465],\n",
      "        [25095527.6465],\n",
      "        [25092937.6465],\n",
      "        [25095177.6465],\n",
      "        [25091817.6465],\n",
      "        [25094827.6465],\n",
      "        [25093497.6465],\n",
      "        [25095597.6465],\n",
      "        [25094477.6465],\n",
      "        [25091747.6465],\n",
      "        [25091607.6465],\n",
      "        [25094547.6465],\n",
      "        [25092517.6465],\n",
      "        [25094197.6465],\n",
      "        [25094967.6465],\n",
      "        [25091537.6465],\n",
      "        [25093917.6465],\n",
      "        [25093427.6465],\n",
      "        [25094687.6465],\n",
      "        [25093147.6465],\n",
      "        [25093637.6465],\n",
      "        [25090907.6465],\n",
      "        [25092657.6465],\n",
      "        [25094407.6465],\n",
      "        [25096297.6465],\n",
      "        [25094337.6465],\n",
      "        [25093777.6465],\n",
      "        [25096157.6465],\n",
      "        [25095877.6465],\n",
      "        [25091957.6465],\n",
      "        [25095387.6465],\n",
      "        [25093707.6465],\n",
      "        [25096227.6465],\n",
      "        [25092097.6465],\n",
      "        [25091467.6465],\n",
      "        [25092797.6465],\n",
      "        [25090977.6465],\n",
      "        [25095737.6465],\n",
      "        [25091327.6465],\n",
      "        [25093847.6465],\n",
      "        [25090837.6465],\n",
      "        [25092027.6465],\n",
      "        [25091677.6465],\n",
      "        [25092867.6465],\n",
      "        [25091117.6465],\n",
      "        [25094757.6465],\n",
      "        [25095037.6465],\n",
      "        [25092237.6465],\n",
      "        [25091397.6465],\n",
      "        [25093007.6465],\n",
      "        [25092307.6465],\n",
      "        [25094897.6465],\n",
      "        [25091047.6465],\n",
      "        [25094617.6465],\n",
      "        [25093357.6465],\n",
      "        [25092727.6465]])\n"
     ]
    },
    {
     "data": {
      "image/png": "[encoded data removed]",
      "text/plain": [
       "<Figure size 640x480 with 1 Axes>"
      ]
     },
     "metadata": {},
     "output_type": "display_data"
    }
   ],
   "source": [
    "plot_predicted_vs_actual(15795)"
   ]
  }
 ],
 "metadata": {
  "kernelspec": {
   "display_name": "Python 3",
   "language": "python",
   "name": "python3"
  },
  "language_info": {
   "codemirror_mode": {
    "name": "ipython",
    "version": 3
   },
   "file_extension": ".py",
   "mimetype": "text/x-python",
   "name": "python",
   "nbconvert_exporter": "python",
   "pygments_lexer": "ipython3",
   "version": "3.8.0"
  }
 },
 "nbformat": 4,
 "nbformat_minor": 2
}
