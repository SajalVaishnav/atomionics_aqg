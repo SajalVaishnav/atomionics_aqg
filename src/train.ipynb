{
 "cells": [
  {
   "cell_type": "code",
   "execution_count": 1,
   "metadata": {},
   "outputs": [],
   "source": [
    "import numpy as np\n",
    "import pandas as pd\n",
    "import torch\n",
    "import torch.nn as nn\n",
    "import torch.optim as optim\n",
    "import os\n",
    "from scipy.optimize import curve_fit"
   ]
  },
  {
   "cell_type": "markdown",
   "metadata": {},
   "source": [
    "## Data preparation"
   ]
  },
  {
   "cell_type": "markdown",
   "metadata": {},
   "source": [
    "### Load data"
   ]
  },
  {
   "cell_type": "code",
   "execution_count": 2,
   "metadata": {},
   "outputs": [
    {
     "name": "stdout",
     "output_type": "stream",
     "text": [
      "(253, 28)\n",
      "(63, 28)\n"
     ]
    }
   ],
   "source": [
    "chirp_direction = 'chirp_up'\n",
    "data_file_path = r'C:\\Users\\vaish\\dsvv_atomionics\\compiled_data\\compiled_' + f'{chirp_direction}.pkl'\n",
    "data_cols = [\n",
    "\t\t'chirp_rate', 'fraction',\n",
    "\t\t'CA+_mean', 'CA+_std_dev', 'CA+_percentile_0', 'CA+_percentile_10', 'CA+_percentile_20', \n",
    "\t\t'CA+_percentile_30', 'CA+_percentile_40', 'CA+_percentile_50', 'CA+_percentile_60', 'CA+_percentile_70', \n",
    "\t\t'CA+_percentile_80', 'CA+_percentile_90', 'CA+_percentile_100', 'CA-_mean', 'CA-_std_dev', 'CA-_percentile_0', \n",
    "\t\t'CA-_percentile_10', 'CA-_percentile_20', 'CA-_percentile_30', 'CA-_percentile_40', 'CA-_percentile_50', \n",
    "\t\t'CA-_percentile_60', 'CA-_percentile_70', 'CA-_percentile_80', 'CA-_percentile_90', 'CA-_percentile_100'\n",
    "\t]\n",
    "data = pd.DataFrame(pd.read_pickle(data_file_path), columns=data_cols)\n",
    "\n",
    "# 80-20 train/test split\n",
    "train_data_df = data.sample(frac=0.8, random_state=0)\n",
    "test_data_df = data.drop(train_data_df.index)\n",
    "\n",
    "print(train_data_df.shape)\n",
    "# print(train_data.head())\n",
    "print(test_data_df.shape)\n",
    "# print(test_data.head())"
   ]
  },
  {
   "cell_type": "markdown",
   "metadata": {},
   "source": [
    "## Constant parameters"
   ]
  },
  {
   "cell_type": "code",
   "execution_count": 3,
   "metadata": {},
   "outputs": [],
   "source": [
    "# I'm not sure of the calculations here, copied from the original code\n",
    "# constants for evaluation: keff, bigT\n",
    "speed_of_light_in_vacuum = 299792458\n",
    "f1 = 384.2304844685e12 - 72.9113e6 - 2.56300597908911e9 + 61.625e6\n",
    "f2 = f1 + 6.725e9 + 112.06936e6\n",
    "k1 = 2*np.pi/(speed_of_light_in_vacuum/f1)\n",
    "k2 = 2*np.pi/(speed_of_light_in_vacuum/f2)\n",
    "Keff = k1+k2\n",
    "\n",
    "bigT = 10e-3"
   ]
  },
  {
   "cell_type": "markdown",
   "metadata": {},
   "source": [
    "## Custom Loss Function"
   ]
  },
  {
   "cell_type": "code",
   "execution_count": 4,
   "metadata": {},
   "outputs": [],
   "source": [
    "torch.set_default_dtype(torch.float64)"
   ]
  },
  {
   "cell_type": "code",
   "execution_count": 5,
   "metadata": {},
   "outputs": [],
   "source": [
    "def sine(alpha, contrast, acc_due_to_gravity, fringe_offset):\n",
    "    #\n",
    "    phi = (Keff * acc_due_to_gravity - 2 * np.pi * alpha) * (bigT**2)\n",
    "    return (-contrast * np.cos(phi) + fringe_offset)"
   ]
  },
  {
   "cell_type": "code",
   "execution_count": 6,
   "metadata": {},
   "outputs": [],
   "source": [
    "def get_popt_for_best_fit(corrected_chirp_rates: np.ndarray, observed_fractions: np.ndarray):\n",
    "\tcontrast = (np.max(observed_fractions) - np.min(observed_fractions)) / 2\n",
    "\tfringe_offset = np.mean(observed_fractions)\n",
    "\tg0 = -9.78306 if chirp_direction == 'chirp_down' else 9.77997\n",
    "\tperiod = 780e-9/(2*bigT**2)\n",
    "\n",
    "\tsine_function_parameters = [contrast, g0, fringe_offset]\n",
    "\tbounds = ([0, g0 - 0.501*period, -np.inf], [1, g0 + 0.501*period, np.inf])\n",
    "\tpopt, _ = curve_fit(sine, corrected_chirp_rates, observed_fractions, p0=sine_function_parameters, maxfev=1000000, bounds=bounds)\n",
    "\treturn popt"
   ]
  },
  {
   "cell_type": "code",
   "execution_count": 7,
   "metadata": {},
   "outputs": [],
   "source": [
    "def calculate_mse_loss_with_popt(outputs: torch.TensorType, observed_fractions: torch.TensorType, *popt):\n",
    "\t# print(f'value in t0: {Keff * popt[1] * bigT**2}')\n",
    "\ttensor0 = torch.tensor([Keff * popt[1] * bigT**2 for _ in range(len(outputs))], dtype=torch.float64)\n",
    "\t# print('tensor0')\n",
    "\t# print(tensor0)\n",
    "\ttensor1 = outputs * bigT**2 * 2 * torch.pi\n",
    "\t# print('outputs')\n",
    "\t# print(outputs)\n",
    "\t# print('tensor1')\n",
    "\t# print(tensor1)\n",
    "\tdiff_tensor = tensor0 - tensor1\n",
    "\t# print('diff_tensor')\n",
    "\t# print(diff_tensor)\n",
    "\tphi_tensor = torch.cos(diff_tensor)\n",
    "\t# print('phi_tensor')\n",
    "\t# print(phi_tensor)\n",
    "\tpredicted_fractions_tensor = phi_tensor * (-popt[0]) + popt[2]\n",
    "\t# print('predicted_fractions_tensor')\n",
    "\t# print(predicted_fractions_tensor)\n",
    "\tmse_loss = nn.MSELoss()\n",
    "\t# print('observed_fractions')\n",
    "\t# print(observed_fractions)\n",
    "\tloss = mse_loss(predicted_fractions_tensor, observed_fractions)\n",
    "\t# print(f'loss: {loss}')\n",
    "\tlog_loss = torch.log(loss) * (-1)\n",
    "\t# print(f'log_loss: {log_loss}')\n",
    "\treturn log_loss"
   ]
  },
  {
   "cell_type": "markdown",
   "metadata": {},
   "source": [
    "## Benchmark MSE score"
   ]
  },
  {
   "cell_type": "code",
   "execution_count": 8,
   "metadata": {},
   "outputs": [
    {
     "name": "stdout",
     "output_type": "stream",
     "text": [
      "log MSE: 4.879983776715633\n"
     ]
    }
   ],
   "source": [
    "test_chirp_rates = test_data_df['chirp_rate'].to_numpy()\n",
    "test_fractions = test_data_df['fraction'].to_numpy()\n",
    "popt = get_popt_for_best_fit(test_chirp_rates, test_fractions)\n",
    "\n",
    "residuals_baseline = test_fractions - sine(test_chirp_rates, *popt)\n",
    "mse_baseline = np.mean(residuals_baseline**2)\n",
    "log_mse_baseline = -np.log(mse_baseline)\n",
    "print(f'log MSE: {log_mse_baseline}')"
   ]
  },
  {
   "cell_type": "markdown",
   "metadata": {},
   "source": [
    "## Training"
   ]
  },
  {
   "cell_type": "markdown",
   "metadata": {},
   "source": [
    "### Neural Network"
   ]
  },
  {
   "cell_type": "code",
   "execution_count": 9,
   "metadata": {},
   "outputs": [],
   "source": [
    "class TransformationNN(nn.Module):\n",
    "    def __init__(self, input_dim, output_dim):\n",
    "        super(TransformationNN, self).__init__()\n",
    "        # Define the layers of the network: 2 fully connected layers 27 -> 64 -> 64 -> 1\n",
    "        self.fc1 = nn.Linear(input_dim, 64)\n",
    "        self.fc2 = nn.Linear(64, 64)\n",
    "        self.fc3 = nn.Linear(64, output_dim)\n",
    "    \n",
    "    def forward(self, x):\n",
    "        x = torch.tanh(self.fc1(x))\n",
    "        x = torch.tanh(self.fc2(x))\n",
    "        x = self.fc3(x)\n",
    "        return x"
   ]
  },
  {
   "cell_type": "code",
   "execution_count": 10,
   "metadata": {},
   "outputs": [],
   "source": [
    "training_data_tensor = torch.tensor(train_data_df.drop(columns=['fraction']).values)\n",
    "observed_fractions_tensor = torch.tensor(train_data_df['fraction'].values)\n",
    "observed_fractions_ndarray = train_data_df['fraction'].to_numpy()"
   ]
  },
  {
   "cell_type": "code",
   "execution_count": 11,
   "metadata": {},
   "outputs": [
    {
     "name": "stdout",
     "output_type": "stream",
     "text": [
      "Epoch [1/1000], log_MSE: 4.98102941475709\n",
      "Epoch [101/1000], log_MSE: 4.981030272578259\n",
      "Epoch [201/1000], log_MSE: 4.981028894874161\n",
      "Epoch [301/1000], log_MSE: 4.981028210105027\n",
      "Epoch [401/1000], log_MSE: 4.981054536400692\n",
      "Epoch [501/1000], log_MSE: 4.981028985991952\n",
      "Epoch [601/1000], log_MSE: 4.981030260502371\n",
      "Epoch [701/1000], log_MSE: 4.9810280921014645\n",
      "Epoch [801/1000], log_MSE: 4.981028782119652\n",
      "Epoch [901/1000], log_MSE: 4.981030083045838\n"
     ]
    }
   ],
   "source": [
    "# Initialize the neural network\n",
    "model = TransformationNN(input_dim=27, output_dim=1)\n",
    "optimizer = optim.Adam(model.parameters(), lr=0.001)\n",
    "\n",
    "# Train the model\n",
    "num_epochs = 1000\n",
    "for epoch in range(num_epochs):\n",
    "    model.train()\n",
    "\n",
    "    # Forward pass: Compute predicted y by passing x to the model\n",
    "    outputs = model(training_data_tensor)\n",
    "    outputs_clone = outputs.clone()\n",
    "    corrected_chirp_rates_ndarray = outputs_clone.detach().cpu().squeeze().numpy()\n",
    "    \n",
    "    popt = get_popt_for_best_fit(corrected_chirp_rates_ndarray, observed_fractions_ndarray)    \n",
    "    loss = calculate_mse_loss_with_popt(outputs.squeeze(), observed_fractions_tensor, *popt)\n",
    "    if epoch % 100 == 0:\n",
    "        print(f'Epoch [{epoch + 1}/{num_epochs}], log_MSE: {loss.item()}')\n",
    "\n",
    "    # Zero gradients, perform a backward pass, and update the weights\n",
    "    optimizer.zero_grad()\n",
    "    loss.backward()\n",
    "    # torch.nn.utils.clip_grad_norm_(model.parameters(), max_norm=1.0)\n",
    "    optimizer.step()"
   ]
  },
  {
   "cell_type": "code",
   "execution_count": 12,
   "metadata": {},
   "outputs": [
    {
     "name": "stdout",
     "output_type": "stream",
     "text": [
      "log_MSE: 4.880016997549585\n",
      "Improvement: -3.322083395129738e-05\n"
     ]
    }
   ],
   "source": [
    "observed_chirp_rates_for_test_data = test_data_df.drop(columns=['fraction']).values\n",
    "observed_chirp_rates_for_test_data_tensor = torch.tensor(observed_chirp_rates_for_test_data)\n",
    "outputs = model(observed_chirp_rates_for_test_data_tensor)\n",
    "corrected_chirp_rates_ndarray = outputs.detach().cpu().squeeze().numpy()\n",
    "\n",
    "popt = get_popt_for_best_fit(corrected_chirp_rates_ndarray, test_fractions)\n",
    "residuals_nn = test_fractions - sine(corrected_chirp_rates_ndarray, *popt)\n",
    "mse_nn = np.mean(residuals_nn**2)\n",
    "log_mse_nn = -np.log(mse_nn)\n",
    "print(f'log_MSE: {log_mse_nn}')\n",
    "print(f'Improvement: {log_mse_baseline - log_mse_nn}')"
   ]
  },
  {
   "cell_type": "markdown",
   "metadata": {},
   "source": [
    "### Genetic Algorithm"
   ]
  },
  {
   "cell_type": "code",
   "execution_count": null,
   "metadata": {},
   "outputs": [],
   "source": []
  }
 ],
 "metadata": {
  "kernelspec": {
   "display_name": "Python 3",
   "language": "python",
   "name": "python3"
  },
  "language_info": {
   "codemirror_mode": {
    "name": "ipython",
    "version": 3
   },
   "file_extension": ".py",
   "mimetype": "text/x-python",
   "name": "python",
   "nbconvert_exporter": "python",
   "pygments_lexer": "ipython3",
   "version": "3.8.0"
  }
 },
 "nbformat": 4,
 "nbformat_minor": 2
}
