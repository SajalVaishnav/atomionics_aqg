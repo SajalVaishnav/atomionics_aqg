{
  "cells": [
    {
      "cell_type": "code",
      "execution_count": 50,
      "metadata": {
        "colab": {
          "base_uri": "https://localhost:8080/"
        },
        "id": "pq96UDEffqHy",
        "outputId": "b6c8f4c1-0809-4b81-a101-bf21cf64359b"
      },
      "outputs": [
        {
          "name": "stdout",
          "output_type": "stream",
          "text": [
            "Drive already mounted at /content/drive; to attempt to forcibly remount, call drive.mount(\"/content/drive\", force_remount=True).\n"
          ]
        }
      ],
      "source": [
        "# mount google drive\n",
        "from google.colab import drive\n",
        "drive.mount('/content/drive')"
      ]
    },
    {
      "cell_type": "code",
      "execution_count": 51,
      "metadata": {
        "id": "gpfq9luZyb21"
      },
      "outputs": [],
      "source": [
        "import numpy as np\n",
        "import pandas as pd\n",
        "import torch\n",
        "import torch.nn as nn\n",
        "import torch.optim as optim\n",
        "import matplotlib.pyplot as plt\n",
        "\n",
        "import scipy.optimize as optimize\n",
        "from sklearn.ensemble import RandomForestRegressor\n",
        "from sklearn.model_selection import train_test_split\n",
        "from sklearn.metrics import mean_squared_error"
      ]
    },
    {
      "cell_type": "code",
      "execution_count": 52,
      "metadata": {
        "id": "eUk0Ostnyb3A"
      },
      "outputs": [],
      "source": [
        "GLOBAL_FLOAT_PRECISION_NUMPY = np.float64"
      ]
    },
    {
      "cell_type": "code",
      "execution_count": 53,
      "metadata": {
        "id": "Omiwv4abyb3E"
      },
      "outputs": [],
      "source": [
        "torch.set_default_dtype(torch.float64)"
      ]
    },
    {
      "cell_type": "markdown",
      "metadata": {
        "id": "3a5QEEGkyb3G"
      },
      "source": [
        "## Data preparation"
      ]
    },
    {
      "cell_type": "code",
      "execution_count": 54,
      "metadata": {
        "colab": {
          "base_uri": "https://localhost:8080/"
        },
        "id": "qGni7kSeyb3Q",
        "outputId": "b836577f-6182-45bd-ecb2-c0f325bcf03e"
      },
      "outputs": [
        {
          "name": "stdout",
          "output_type": "stream",
          "text": [
            "(40, 7)\n",
            "   master_run chirp_direction  bigT          Keff  contrast        g0  \\\n",
            "0       15795        chirp_up  0.01  1.610579e+07  0.077362  9.781717   \n",
            "1       15795      chirp_down  0.01  1.610579e+07  0.071496 -9.785014   \n",
            "2       15796        chirp_up  0.01  1.610579e+07  0.089038  9.781654   \n",
            "3       15796      chirp_down  0.01  1.610579e+07  0.050573 -9.785014   \n",
            "4       15797        chirp_up  0.01  1.610579e+07  0.037504  9.781175   \n",
            "\n",
            "   fringe_offset  \n",
            "0       0.598050  \n",
            "1       0.558940  \n",
            "2       0.587497  \n",
            "3       0.542947  \n",
            "4       0.539222  \n"
          ]
        }
      ],
      "source": [
        "compiled_constants_csv_path = r'/content/drive/MyDrive/compiled_data/compiled_constants.csv'\n",
        "compiled_constants_df = pd.read_csv(compiled_constants_csv_path)\n",
        "compiled_constants_dtypes = {\n",
        "\t'master_run': 'int32',\n",
        "\t'chirp_direction': 'str',\n",
        "\t'bigT': GLOBAL_FLOAT_PRECISION_NUMPY,\n",
        "\t'Keff': GLOBAL_FLOAT_PRECISION_NUMPY,\n",
        "\t'contrast': GLOBAL_FLOAT_PRECISION_NUMPY,\n",
        "\t'g0': GLOBAL_FLOAT_PRECISION_NUMPY,\n",
        "\t'fringe_offset': GLOBAL_FLOAT_PRECISION_NUMPY\n",
        "}\n",
        "compiled_constants_df = compiled_constants_df.astype(compiled_constants_dtypes)\n",
        "\n",
        "print(compiled_constants_df.shape)\n",
        "print(compiled_constants_df.head())"
      ]
    },
    {
      "cell_type": "code",
      "execution_count": 55,
      "metadata": {
        "colab": {
          "base_uri": "https://localhost:8080/"
        },
        "id": "HNq5myr4yb3M",
        "outputId": "0afaf2a1-f6d1-48a7-b14d-c19c254564d7"
      },
      "outputs": [
        {
          "name": "stdout",
          "output_type": "stream",
          "text": [
            "   master_run_number  chirp_rate  fraction     CA+_mean  CA+_std_dev  \\\n",
            "0              15795  25093740.0  0.435512  4271.655457  2025.222384   \n",
            "1              15795  25096470.0  0.595626  4314.505900  1976.728073   \n",
            "2              15795  25093110.0  0.435637  4144.249294  1977.968400   \n",
            "3              15795  25091920.0  0.638270  4285.936412  2025.434123   \n",
            "4              15795  25096610.0  0.560878  4169.823235  2004.726056   \n",
            "\n",
            "   CA+_percentile_0  CA+_percentile_10  CA+_percentile_20  CA+_percentile_30  \\\n",
            "0           -3526.0             1709.6             2575.0             3207.0   \n",
            "1           -3244.0             1810.6             2644.0             3284.0   \n",
            "2           -3800.0             1629.0             2491.0             3119.0   \n",
            "3           -3566.0             1722.0             2620.0             3239.0   \n",
            "4           -3981.0             1634.0             2515.0             3135.0   \n",
            "\n",
            "   CA+_percentile_40  ...  CA-_percentile_10  CA-_percentile_20  \\\n",
            "0             3755.0  ...              307.0              339.0   \n",
            "1             3815.0  ...              303.0              335.0   \n",
            "2             3650.0  ...              299.0              331.0   \n",
            "3             3775.0  ...              303.0              335.0   \n",
            "4             3682.0  ...              295.0              327.0   \n",
            "\n",
            "   CA-_percentile_30  CA-_percentile_40  CA-_percentile_50  CA-_percentile_60  \\\n",
            "0              360.0              380.0              400.0              416.0   \n",
            "1              360.0              380.0              396.0              416.0   \n",
            "2              356.0              372.0              392.0              408.0   \n",
            "3              360.0              376.0              396.0              412.0   \n",
            "4              351.0              372.0              388.0              408.0   \n",
            "\n",
            "   CA-_percentile_70  CA-_percentile_80  CA-_percentile_90  CA-_percentile_100  \n",
            "0              436.0              461.0              493.0             32767.0  \n",
            "1              432.0              457.0              489.0             32767.0  \n",
            "2              428.0              453.0              485.0             32767.0  \n",
            "3              432.0              457.0              489.0             32767.0  \n",
            "4              424.0              449.0              481.0             32767.0  \n",
            "\n",
            "[5 rows x 29 columns]\n",
            "(1264, 29)\n",
            "(316, 29)\n"
          ]
        }
      ],
      "source": [
        "chirp_direction = 'chirp_up'\n",
        "data_file_path = r'/content/drive/MyDrive/compiled_data/compiled_' + f'{chirp_direction}.pkl'\n",
        "data_cols = [\n",
        "\t\t'master_run_number', 'chirp_rate', 'fraction',\n",
        "\t\t'CA+_mean', 'CA+_std_dev', 'CA+_percentile_0', 'CA+_percentile_10', 'CA+_percentile_20',\n",
        "\t\t'CA+_percentile_30', 'CA+_percentile_40', 'CA+_percentile_50', 'CA+_percentile_60', 'CA+_percentile_70',\n",
        "\t\t'CA+_percentile_80', 'CA+_percentile_90', 'CA+_percentile_100', 'CA-_mean', 'CA-_std_dev', 'CA-_percentile_0',\n",
        "\t\t'CA-_percentile_10', 'CA-_percentile_20', 'CA-_percentile_30', 'CA-_percentile_40', 'CA-_percentile_50',\n",
        "\t\t'CA-_percentile_60', 'CA-_percentile_70', 'CA-_percentile_80', 'CA-_percentile_90', 'CA-_percentile_100'\n",
        "\t]\n",
        "\n",
        "data = pd.DataFrame(pd.read_pickle(data_file_path), columns=data_cols, dtype=GLOBAL_FLOAT_PRECISION_NUMPY)\n",
        "data = data.astype({'master_run_number': 'int32'})\n",
        "print(data.head())\n",
        "\n",
        "# 80-20 train/test split\n",
        "train_data_df = data.sample(frac=0.8, random_state=0)\n",
        "test_data_df = data.drop(train_data_df.index)\n",
        "\n",
        "print(train_data_df.shape)\n",
        "print(test_data_df.shape)\n",
        "# print(test_data_df.head())"
      ]
    },
    {
      "cell_type": "markdown",
      "metadata": {
        "id": "3o9ex9E2yb3T"
      },
      "source": [
        "## Converting chirp rates to fractions"
      ]
    },
    {
      "cell_type": "code",
      "execution_count": 56,
      "metadata": {
        "id": "jZsdRf2cyb3V"
      },
      "outputs": [],
      "source": [
        "def sine_torch(alpha, Keff, bigT, contrast, g0, fringe_offset):\n",
        "    phi = (Keff * g0 - 2 * torch.pi * alpha) * (bigT**2)\n",
        "    # # To check that we are getting the expected values for phi\n",
        "    # phi_as_pi_multiples = phi / np.pi\n",
        "    # print(f'phi: {phi_as_pi_multiples}')\n",
        "    return (-contrast * torch.cos(phi) + fringe_offset)"
      ]
    },
    {
      "cell_type": "code",
      "execution_count": 57,
      "metadata": {
        "id": "p_liar-9yb3b"
      },
      "outputs": [],
      "source": [
        "def get_chirp_rates_from_noise_torch(outputs, data_df):\n",
        "\tcorrected_chirp_rates = outputs + torch.tensor(data_df['chirp_rate'].values).view(-1, 1)\n",
        "\treturn corrected_chirp_rates"
      ]
    },
    {
      "cell_type": "code",
      "execution_count": 58,
      "metadata": {
        "colab": {
          "base_uri": "https://localhost:8080/"
        },
        "id": "SVAkhVF6yb3d",
        "outputId": "db738619-638b-45c7-92f4-652ceeb9d2e4"
      },
      "outputs": [
        {
          "name": "stdout",
          "output_type": "stream",
          "text": [
            "torch.Size([3, 1])\n",
            "   chirp_rate\n",
            "0           1\n",
            "1           2\n",
            "2           3\n",
            "tensor([[2],\n",
            "        [4],\n",
            "        [6]])\n"
          ]
        }
      ],
      "source": [
        "# shitty impromptu unit testing\n",
        "t1 = torch.tensor([[1], [2], [3]])\n",
        "print(t1.shape)\n",
        "t2 = pd.DataFrame([1, 2, 3], columns=['chirp_rate'])\n",
        "print(t2)\n",
        "t3 = get_chirp_rates_from_noise_torch(t1, t2)\n",
        "print(t3)"
      ]
    },
    {
      "cell_type": "code",
      "execution_count": 59,
      "metadata": {
        "id": "b409pJaQyb3f"
      },
      "outputs": [],
      "source": [
        "def get_predicted_fractions_from_chirp_rates_torch(chirp_rates, data_df):\n",
        "\tpredicted_fractions = []\n",
        "\tfor index in range(chirp_rates.shape[0]):\n",
        "\t\tdata_row = data_df.iloc[index]\n",
        "\t\tmaster_run = data_row['master_run_number']\n",
        "\t\tcompiled_constants_row = compiled_constants_df[(compiled_constants_df['master_run'] == master_run) & (compiled_constants_df['chirp_direction'] == chirp_direction)]\n",
        "\n",
        "\t\tKeff = compiled_constants_row['Keff'].item()\n",
        "\t\tbigT = compiled_constants_row['bigT'].item()\n",
        "\t\tcontrast = compiled_constants_row['contrast'].item()\n",
        "\t\tg0 = compiled_constants_row['g0'].item()\n",
        "\t\tfringe_offset = compiled_constants_row['fringe_offset'].item()\n",
        "\t\talpha = chirp_rates[index]\n",
        "\t\tpredicted_fraction = sine_torch(alpha, Keff, bigT, contrast, g0, fringe_offset)\n",
        "\t\tpredicted_fractions.append(predicted_fraction)\n",
        "\n",
        "\tpredicted_fractions_tensor = torch.stack(predicted_fractions, 0)\n",
        "\treturn predicted_fractions_tensor\n"
      ]
    },
    {
      "cell_type": "code",
      "execution_count": 60,
      "metadata": {
        "colab": {
          "base_uri": "https://localhost:8080/"
        },
        "id": "osm6hMFzyb3h",
        "outputId": "1163668f-7c66-4938-bfa6-48fd3efa3958"
      },
      "outputs": [
        {
          "name": "stdout",
          "output_type": "stream",
          "text": [
            "torch.Size([3, 1])\n",
            "16105786.351132 0.01 0.077362 9.781717 0.59805\n",
            "1: 0.648325936598004748\n",
            "16105786.351132 0.01 0.077362 9.781717 0.59805\n",
            "2: 0.648288982779701151\n",
            "16105786.351132 0.01 0.077362 9.781717 0.59805\n",
            "3: 0.648252009127842865\n",
            "\n",
            "\n",
            "\n",
            "0.648325936598004748\n",
            "0.648288982779701151\n",
            "0.648252009127842865\n"
          ]
        }
      ],
      "source": [
        "# shitty impromptu unit testing\n",
        "master_run = 15795\n",
        "t1 = torch.tensor([[1], [2], [3]])\n",
        "print(t1.shape)\n",
        "for i in range(1,4):\n",
        "\tcompiled_constants_row = compiled_constants_df[(compiled_constants_df['master_run'] == master_run) & (compiled_constants_df['chirp_direction'] == chirp_direction)]\n",
        "\tKeff = compiled_constants_row['Keff'].item()\n",
        "\tbigT = compiled_constants_row['bigT'].item()\n",
        "\tcontrast = compiled_constants_row['contrast'].item()\n",
        "\tg0 = compiled_constants_row['g0'].item()\n",
        "\tfringe_offset = compiled_constants_row['fringe_offset'].item()\n",
        "\tprint(Keff, bigT, contrast, g0, fringe_offset)\n",
        "\talpha = torch.tensor(i)\n",
        "\tpredicted_fraction = sine_torch(alpha, Keff, bigT, contrast, g0, fringe_offset)\n",
        "\tprint(f'{alpha}: {predicted_fraction:.18f}')\n",
        "\n",
        "print(f'\\n\\n')\n",
        "t2 = get_predicted_fractions_from_chirp_rates_torch(t1, data)\n",
        "print(f'{t2[0].item():.18f}')\n",
        "print(f'{t2[1].item():.18f}')\n",
        "print(f'{t2[2].item():.18f}')"
      ]
    },
    {
      "cell_type": "code",
      "execution_count": 61,
      "metadata": {
        "colab": {
          "base_uri": "https://localhost:8080/"
        },
        "id": "c3yrYaM4yb3j",
        "outputId": "a6492b8d-a869-4a01-b47d-5d1c5dbe70c9"
      },
      "outputs": [
        {
          "name": "stdout",
          "output_type": "stream",
          "text": [
            "torch.Size([6, 1])\n",
            "torch.Size([6, 1])\n"
          ]
        },
        {
          "data": {
            "text/plain": [
              "tensor([[-1.1041e-05],\n",
              "        [-5.3929e-06],\n",
              "        [-1.1051e-05],\n",
              "        [-4.4660e-06],\n",
              "        [-6.9896e-06],\n",
              "        [-7.6072e-06]])"
            ]
          },
          "execution_count": 61,
          "metadata": {},
          "output_type": "execute_result"
        }
      ],
      "source": [
        "# A little test you can run, to verify that gradients do propagate through this transformation\n",
        "# https://stackoverflow.com/questions/70426391/how-to-transform-output-of-nn-while-still-being-able-to-train\n",
        "\n",
        "# start with some random tensor representing the input predictions\n",
        "# make sure it requires_grad\n",
        "pred = torch.tensor([[1.0],[1.0],[2.0],[2.0],[10.0],[10.0]]).requires_grad_(True)\n",
        "print(pred.shape)\n",
        "# transform it\n",
        "tpred = get_predicted_fractions_from_chirp_rates_torch(pred, train_data_df)\n",
        "print(tpred.shape)\n",
        "# make up some \"default\" loss function and back-prop\n",
        "tpred.mean().backward()\n",
        "\n",
        "# check to see all gradients of the original prediction:\n",
        "pred.grad"
      ]
    },
    {
      "cell_type": "code",
      "execution_count": 62,
      "metadata": {
        "colab": {
          "base_uri": "https://localhost:8080/"
        },
        "id": "SSyV5UYLyb3l",
        "outputId": "d853488b-13b3-4bee-c261-572a78b9ccfd"
      },
      "outputs": [
        {
          "name": "stdout",
          "output_type": "stream",
          "text": [
            "torch.Size([1264, 1])\n",
            "torch.Size([1264, 1])\n"
          ]
        },
        {
          "data": {
            "text/plain": [
              "tensor([[0.0008],\n",
              "        [0.0008],\n",
              "        [0.0008],\n",
              "        ...,\n",
              "        [0.0008],\n",
              "        [0.0008],\n",
              "        [0.0008]])"
            ]
          },
          "execution_count": 62,
          "metadata": {},
          "output_type": "execute_result"
        }
      ],
      "source": [
        "# A little test you can run, to verify that gradients do propagate through this transformation\n",
        "# https://stackoverflow.com/questions/70426391/how-to-transform-output-of-nn-while-still-being-able-to-train\n",
        "\n",
        "# start with some random tensor representing the input predictions\n",
        "# make sure it requires_grad\n",
        "pred = torch.rand((train_data_df.shape[0], 1)).requires_grad_(True)\n",
        "print(pred.shape)\n",
        "# transform it\n",
        "tpred = get_chirp_rates_from_noise_torch(pred, train_data_df)\n",
        "print(tpred.shape)\n",
        "# make up some \"default\" loss function and back-prop\n",
        "tpred.mean().backward()\n",
        "\n",
        "# check to see all gradients of the original prediction:\n",
        "pred.grad"
      ]
    },
    {
      "cell_type": "markdown",
      "metadata": {
        "id": "DnGCaeNZyb3o"
      },
      "source": [
        "## Benchmark MSE score"
      ]
    },
    {
      "cell_type": "code",
      "execution_count": 63,
      "metadata": {
        "id": "JGVPzzCFyb3p"
      },
      "outputs": [],
      "source": [
        "test_chirp_rates = torch.tensor(test_data_df['chirp_rate'].values).view(-1, 1)\n",
        "test_fractions = torch.tensor(test_data_df['fraction'].values).view(-1, 1)"
      ]
    },
    {
      "cell_type": "code",
      "execution_count": 64,
      "metadata": {
        "colab": {
          "base_uri": "https://localhost:8080/"
        },
        "id": "4Bip1gkWyb3r",
        "outputId": "aa3eade5-c35c-4035-86ca-73acdc2d2cfa"
      },
      "outputs": [
        {
          "name": "stdout",
          "output_type": "stream",
          "text": [
            "torch.Size([316, 1])\n"
          ]
        }
      ],
      "source": [
        "print(test_chirp_rates.shape)"
      ]
    },
    {
      "cell_type": "code",
      "execution_count": 65,
      "metadata": {
        "id": "J62gCdbhyb3s"
      },
      "outputs": [],
      "source": [
        "def get_baseline_score(predicted_tensor, target_tensor, loss_fn):\n",
        "\tloss = loss_fn(predicted_tensor, target_tensor)\n",
        "\treturn loss.item()"
      ]
    },
    {
      "cell_type": "code",
      "execution_count": 66,
      "metadata": {
        "colab": {
          "base_uri": "https://localhost:8080/"
        },
        "id": "Gnz9B5Vqyb3u",
        "outputId": "0fb0c84a-4a8a-4268-ce83-48b6c82f6c22"
      },
      "outputs": [
        {
          "name": "stdout",
          "output_type": "stream",
          "text": [
            "MSE baseline score: 0.00439656133251736\n",
            "Huber baseline score: 0.00219828066625868\n"
          ]
        }
      ],
      "source": [
        "predicted_fractions_tensor = get_predicted_fractions_from_chirp_rates_torch(test_chirp_rates, test_data_df)\n",
        "\n",
        "MSELoss = nn.MSELoss()\n",
        "mse_baseline_score = get_baseline_score(predicted_fractions_tensor, test_fractions, MSELoss)\n",
        "print(f'MSE baseline score: {mse_baseline_score}')\n",
        "\n",
        "HuberLoss = nn.SmoothL1Loss()\n",
        "msle_baseline_score = get_baseline_score(predicted_fractions_tensor, test_fractions, HuberLoss)\n",
        "print(f'Huber baseline score: {msle_baseline_score}')"
      ]
    },
    {
      "cell_type": "markdown",
      "metadata": {
        "id": "NLBrcRPvyb3v"
      },
      "source": [
        "## Training"
      ]
    },
    {
      "cell_type": "code",
      "execution_count": 67,
      "metadata": {
        "id": "JBqtZo7hyb30"
      },
      "outputs": [],
      "source": [
        "def train(model, optimizer, loss_fn, epochs, train_data_df):\n",
        "\ttraining_data_tensor, observed_fractions_tensor = model.get_training_data_tensors_from_dataframe(train_data_df)\n",
        "\tloss_values = []\n",
        "\tfor epoch in range(epochs):\n",
        "\t\tmodel.train()\n",
        "\n",
        "\t\t# Forward pass: Compute predicted y by passing x to the model\n",
        "\t\tnoise_corrections = model(training_data_tensor)\n",
        "\t\tchirp_rates = get_chirp_rates_from_noise_torch(noise_corrections, train_data_df)\n",
        "\t\tpredicted_fractions_tensor = get_predicted_fractions_from_chirp_rates_torch(chirp_rates, train_data_df)\n",
        "\t\tloss = loss_fn(predicted_fractions_tensor, observed_fractions_tensor)\n",
        "\t\tloss_values.append(loss.item())\n",
        "\n",
        "\t\toptimizer.zero_grad()\n",
        "\t\tloss.backward()\n",
        "\t\toptimizer.step()\n",
        "\n",
        "\t\tif epoch % (epochs / 10) == 0:\n",
        "\t\t\tprint(f'Epoch [{epoch + 1}/{epochs}], Loss: {loss.item()}')\n",
        "\t\t\tprint(f'noise corrections variation: {torch.var(noise_corrections)}')\n",
        "\n",
        "\tplt.figure(figsize=(10, 6))\n",
        "\tplt.plot(range(epochs), loss_values, label='Training Loss')\n",
        "\tplt.xlabel('Epochs')\n",
        "\tplt.ylabel('Loss')\n",
        "\tplt.title('Training Loss vs. Epochs')\n",
        "\tplt.legend()\n",
        "\tplt.show()\n"
      ]
    },
    {
      "cell_type": "markdown",
      "metadata": {
        "id": "uPkip8Vfyb3x"
      },
      "source": [
        "### Neural Network"
      ]
    },
    {
      "cell_type": "code",
      "execution_count": 85,
      "metadata": {
        "id": "LJafwck6kQGD"
      },
      "outputs": [],
      "source": [
        "def train(model, optimizer, loss_fn, epochs, train_data_df):\n",
        "\ttraining_data_tensor, observed_fractions_tensor = model.get_training_data_tensors_from_dataframe(train_data_df)\n",
        "\tloss_values = []\n",
        "\tfor epoch in range(epochs):\n",
        "\t\tmodel.train()\n",
        "\n",
        "\t\t# Forward pass: Compute predicted y by passing x to the model\n",
        "\t\tpredicted_fractions_tensor = model(training_data_tensor)\n",
        "\t\tloss = loss_fn(predicted_fractions_tensor, observed_fractions_tensor)\n",
        "\t\tloss_values.append(loss.item())\n",
        "\n",
        "\t\toptimizer.zero_grad()\n",
        "\t\tloss.backward()\n",
        "\t\toptimizer.step()\n",
        "\n",
        "\t\tif epoch % (epochs / 10) == 0:\n",
        "\t\t\tprint(f'Epoch [{epoch + 1}/{epochs}], Loss: {loss.item()}')\n",
        "\n",
        "\tplt.figure(figsize=(10, 6))\n",
        "\tplt.plot(range(epochs), loss_values, label='Training Loss')\n",
        "\tplt.xlabel('Epochs')\n",
        "\tplt.ylabel('Loss')\n",
        "\tplt.title('Training Loss vs. Epochs')\n",
        "\tplt.legend()\n",
        "\tplt.show()\n"
      ]
    },
    {
      "cell_type": "markdown",
      "metadata": {
        "id": "_fttztW2dgr3"
      },
      "source": [
        "### Neural Network - 1"
      ]
    },
    {
      "cell_type": "code",
      "execution_count": 84,
      "metadata": {
        "id": "ufMI9nKNdiz1"
      },
      "outputs": [],
      "source": [
        "class EndToEndModel(nn.Module):\n",
        "    def __init__(self):\n",
        "        super(EndToEndModel, self).__init__()\n",
        "        self.loss_correction_nn = LossCorrectionNN()\n",
        "\n",
        "    def forward(self, x):\n",
        "        noise_corrections = self.loss_correction_nn(x)\n",
        "        chirp_rates = get_chirp_rates_from_noise_torch(noise_corrections, train_data_df)\n",
        "        predicted_fractions_tensor = get_predicted_fractions_from_chirp_rates_torch(chirp_rates, train_data_df)\n",
        "        return predicted_fractions_tensor\n",
        "\n",
        "    def get_training_data_tensors_from_dataframe(self, data_df):\n",
        "        training_data_tensor = torch.tensor(train_data_df[['CA+_mean', 'CA+_std_dev',\n",
        "                                             'CA+_percentile_0', 'CA+_percentile_50',\n",
        "                                             'CA+_percentile_100', 'CA-_mean',\n",
        "                                             'CA-_std_dev', 'CA-_percentile_0',\n",
        "                                             'CA-_percentile_50', 'CA-_percentile_100']].values)\n",
        "        observed_fractions_tensor = torch.tensor(data_df['fraction'].values).view(-1, 1)\n",
        "        return training_data_tensor, observed_fractions_tensor\n"
      ]
    },
    {
      "cell_type": "code",
      "execution_count": 91,
      "metadata": {
        "id": "-OUUBqFQkmpE"
      },
      "outputs": [],
      "source": [
        "end_to_end_model = EndToEndModel()\n",
        "optimizer = optim.Adam(end_to_end_model.parameters(), lr=0.001)\n",
        "HuberLoss = nn.SmoothL1Loss()\n",
        "MSELoss = nn.MSELoss()"
      ]
    },
    {
      "cell_type": "code",
      "execution_count": 87,
      "metadata": {
        "colab": {
          "base_uri": "https://localhost:8080/",
          "height": 741
        },
        "id": "q-29FRJrds8T",
        "outputId": "069b0471-ea41-4e3f-85d5-c7186f28e4d2"
      },
      "outputs": [
        {
          "name": "stdout",
          "output_type": "stream",
          "text": [
            "Epoch [1/100], Loss: 0.002345121501596261\n",
            "Epoch [11/100], Loss: 0.00234511699514864\n",
            "Epoch [21/100], Loss: 0.002345113751371063\n",
            "Epoch [31/100], Loss: 0.002345104392110588\n",
            "Epoch [41/100], Loss: 0.002345099402643483\n",
            "Epoch [51/100], Loss: 0.0023450914665796873\n",
            "Epoch [61/100], Loss: 0.002345084973477658\n",
            "Epoch [71/100], Loss: 0.0023450791129034855\n",
            "Epoch [81/100], Loss: 0.0023450660201919027\n",
            "Epoch [91/100], Loss: 0.002345061000223344\n"
          ]
        },
        {
          "data": {
            "image/png": "[encoded data removed]",
            "text/plain": [
              "<Figure size 1000x600 with 1 Axes>"
            ]
          },
          "metadata": {},
          "output_type": "display_data"
        }
      ],
      "source": [
        "train(end_to_end_model, optimizer, HuberLoss, 100, train_data_df)"
      ]
    },
    {
      "cell_type": "markdown",
      "metadata": {
        "id": "j_yRuLml3_A3"
      },
      "source": [
        "### Using scipy-optimize"
      ]
    },
    {
      "cell_type": "code",
      "execution_count": null,
      "metadata": {
        "id": "mBlxaWHd4FKo"
      },
      "outputs": [],
      "source": [
        "def sine_np(alpha, Keff, bigT, contrast, g0, fringe_offset):\n",
        "    phi = (Keff * g0 - 2 * np.pi * alpha) * (bigT**2)\n",
        "    return (-contrast * np.cos(phi) + fringe_offset)\n",
        "\n",
        "def get_predicted_fractions_from_chirp_rates_np(chirp_rates, data_df):\n",
        "    predicted_fractions = []\n",
        "    for index in range(chirp_rates.shape[0]):\n",
        "        data_row = data_df.iloc[index]\n",
        "        master_run = data_row['master_run_number']\n",
        "        compiled_constants_row = compiled_constants_df[(compiled_constants_df['master_run'] == master_run) & (compiled_constants_df['chirp_direction'] == chirp_direction)]\n",
        "        Keff = compiled_constants_row['Keff'].item()\n",
        "        bigT = compiled_constants_row['bigT'].item()\n",
        "        contrast = compiled_constants_row['contrast'].item()\n",
        "        g0 = compiled_constants_row['g0'].item()\n",
        "        fringe_offset = compiled_constants_row['fringe_offset'].item()\n",
        "        alpha = chirp_rates[index]\n",
        "        predicted_fraction = sine(alpha, Keff, bigT, contrast, g0, fringe_offset)\n",
        "        predicted_fractions.append(predicted_fraction)\n",
        "\n",
        "    return np.array(predicted_fractions)\n",
        "\n",
        "def objective_function_np(noise_correction, chirp_rates, data_df, observed_fractions):\n",
        "    corrected_chirp_rates = chirp_rates + noise_correction\n",
        "    predicted_fractions = get_predicted_fractions_from_chirp_rates(corrected_chirp_rates, data_df)\n",
        "    return np.mean((predicted_fractions - observed_fractions)**2)\n",
        "\n",
        "def find_optimal_correction(chirp_rates, data_df, observed_fractions):\n",
        "    result = optimize.minimize(objective_function, x0=0,\n",
        "                               args=(chirp_rates, data_df, observed_fractions),\n",
        "                               method='Nelder-Mead')\n",
        "    return result.x[0]"
      ]
    },
    {
      "cell_type": "markdown",
      "metadata": {
        "id": "9w_RKXz8yb33"
      },
      "source": [
        "## Evaluation"
      ]
    },
    {
      "cell_type": "code",
      "execution_count": 89,
      "metadata": {
        "id": "bpdvs488yb34"
      },
      "outputs": [],
      "source": [
        "def get_model_score(predicted_tensor, target_tensor, loss_fn):\n",
        "\tloss = loss_fn(predicted_tensor, target_tensor)\n",
        "\treturn loss.item()"
      ]
    },
    {
      "cell_type": "code",
      "execution_count": 93,
      "metadata": {
        "colab": {
          "base_uri": "https://localhost:8080/",
          "height": 327
        },
        "id": "cJvNVmxAyb35",
        "outputId": "e0525b0a-de74-4ff5-c4ec-2c578e736733"
      },
      "outputs": [
        {
          "ename": "RuntimeError",
          "evalue": "The size of tensor a (316) must match the size of tensor b (1264) at non-singleton dimension 0",
          "output_type": "error",
          "traceback": [
            "\u001b[0;31m---------------------------------------------------------------------------\u001b[0m",
            "\u001b[0;31mRuntimeError\u001b[0m                              Traceback (most recent call last)",
            "\u001b[0;32m<ipython-input-93-8252bf4f1cf4>\u001b[0m in \u001b[0;36m<cell line: 10>\u001b[0;34m()\u001b[0m\n\u001b[1;32m      9\u001b[0m \u001b[0;31m# Forward pass through the model\u001b[0m\u001b[0;34m\u001b[0m\u001b[0;34m\u001b[0m\u001b[0m\n\u001b[1;32m     10\u001b[0m \u001b[0;32mwith\u001b[0m \u001b[0mtorch\u001b[0m\u001b[0;34m.\u001b[0m\u001b[0mno_grad\u001b[0m\u001b[0;34m(\u001b[0m\u001b[0;34m)\u001b[0m\u001b[0;34m:\u001b[0m\u001b[0;34m\u001b[0m\u001b[0;34m\u001b[0m\u001b[0m\n\u001b[0;32m---> 11\u001b[0;31m     \u001b[0mpredicted_fractions\u001b[0m \u001b[0;34m=\u001b[0m \u001b[0mend_to_end_model\u001b[0m\u001b[0;34m(\u001b[0m\u001b[0mtest__noise_tensor\u001b[0m\u001b[0;34m)\u001b[0m\u001b[0;34m\u001b[0m\u001b[0;34m\u001b[0m\u001b[0m\n\u001b[0m\u001b[1;32m     12\u001b[0m \u001b[0;34m\u001b[0m\u001b[0m\n\u001b[1;32m     13\u001b[0m \u001b[0mtest_fractions_shape_corrected\u001b[0m \u001b[0;34m=\u001b[0m \u001b[0mtest_fractions\u001b[0m\u001b[0;34m.\u001b[0m\u001b[0mview\u001b[0m\u001b[0;34m(\u001b[0m\u001b[0;34m-\u001b[0m\u001b[0;36m1\u001b[0m\u001b[0;34m,\u001b[0m \u001b[0;36m1\u001b[0m\u001b[0;34m)\u001b[0m\u001b[0;34m\u001b[0m\u001b[0;34m\u001b[0m\u001b[0m\n",
            "\u001b[0;32m/usr/local/lib/python3.10/dist-packages/torch/nn/modules/module.py\u001b[0m in \u001b[0;36m_wrapped_call_impl\u001b[0;34m(self, *args, **kwargs)\u001b[0m\n\u001b[1;32m   1530\u001b[0m             \u001b[0;32mreturn\u001b[0m \u001b[0mself\u001b[0m\u001b[0;34m.\u001b[0m\u001b[0m_compiled_call_impl\u001b[0m\u001b[0;34m(\u001b[0m\u001b[0;34m*\u001b[0m\u001b[0margs\u001b[0m\u001b[0;34m,\u001b[0m \u001b[0;34m**\u001b[0m\u001b[0mkwargs\u001b[0m\u001b[0;34m)\u001b[0m  \u001b[0;31m# type: ignore[misc]\u001b[0m\u001b[0;34m\u001b[0m\u001b[0;34m\u001b[0m\u001b[0m\n\u001b[1;32m   1531\u001b[0m         \u001b[0;32melse\u001b[0m\u001b[0;34m:\u001b[0m\u001b[0;34m\u001b[0m\u001b[0;34m\u001b[0m\u001b[0m\n\u001b[0;32m-> 1532\u001b[0;31m             \u001b[0;32mreturn\u001b[0m \u001b[0mself\u001b[0m\u001b[0;34m.\u001b[0m\u001b[0m_call_impl\u001b[0m\u001b[0;34m(\u001b[0m\u001b[0;34m*\u001b[0m\u001b[0margs\u001b[0m\u001b[0;34m,\u001b[0m \u001b[0;34m**\u001b[0m\u001b[0mkwargs\u001b[0m\u001b[0;34m)\u001b[0m\u001b[0;34m\u001b[0m\u001b[0;34m\u001b[0m\u001b[0m\n\u001b[0m\u001b[1;32m   1533\u001b[0m \u001b[0;34m\u001b[0m\u001b[0m\n\u001b[1;32m   1534\u001b[0m     \u001b[0;32mdef\u001b[0m \u001b[0m_call_impl\u001b[0m\u001b[0;34m(\u001b[0m\u001b[0mself\u001b[0m\u001b[0;34m,\u001b[0m \u001b[0;34m*\u001b[0m\u001b[0margs\u001b[0m\u001b[0;34m,\u001b[0m \u001b[0;34m**\u001b[0m\u001b[0mkwargs\u001b[0m\u001b[0;34m)\u001b[0m\u001b[0;34m:\u001b[0m\u001b[0;34m\u001b[0m\u001b[0;34m\u001b[0m\u001b[0m\n",
            "\u001b[0;32m/usr/local/lib/python3.10/dist-packages/torch/nn/modules/module.py\u001b[0m in \u001b[0;36m_call_impl\u001b[0;34m(self, *args, **kwargs)\u001b[0m\n\u001b[1;32m   1539\u001b[0m                 \u001b[0;32mor\u001b[0m \u001b[0m_global_backward_pre_hooks\u001b[0m \u001b[0;32mor\u001b[0m \u001b[0m_global_backward_hooks\u001b[0m\u001b[0;34m\u001b[0m\u001b[0;34m\u001b[0m\u001b[0m\n\u001b[1;32m   1540\u001b[0m                 or _global_forward_hooks or _global_forward_pre_hooks):\n\u001b[0;32m-> 1541\u001b[0;31m             \u001b[0;32mreturn\u001b[0m \u001b[0mforward_call\u001b[0m\u001b[0;34m(\u001b[0m\u001b[0;34m*\u001b[0m\u001b[0margs\u001b[0m\u001b[0;34m,\u001b[0m \u001b[0;34m**\u001b[0m\u001b[0mkwargs\u001b[0m\u001b[0;34m)\u001b[0m\u001b[0;34m\u001b[0m\u001b[0;34m\u001b[0m\u001b[0m\n\u001b[0m\u001b[1;32m   1542\u001b[0m \u001b[0;34m\u001b[0m\u001b[0m\n\u001b[1;32m   1543\u001b[0m         \u001b[0;32mtry\u001b[0m\u001b[0;34m:\u001b[0m\u001b[0;34m\u001b[0m\u001b[0;34m\u001b[0m\u001b[0m\n",
            "\u001b[0;32m<ipython-input-84-21ed9766bb83>\u001b[0m in \u001b[0;36mforward\u001b[0;34m(self, x)\u001b[0m\n\u001b[1;32m      6\u001b[0m     \u001b[0;32mdef\u001b[0m \u001b[0mforward\u001b[0m\u001b[0;34m(\u001b[0m\u001b[0mself\u001b[0m\u001b[0;34m,\u001b[0m \u001b[0mx\u001b[0m\u001b[0;34m)\u001b[0m\u001b[0;34m:\u001b[0m\u001b[0;34m\u001b[0m\u001b[0;34m\u001b[0m\u001b[0m\n\u001b[1;32m      7\u001b[0m         \u001b[0mnoise_corrections\u001b[0m \u001b[0;34m=\u001b[0m \u001b[0mself\u001b[0m\u001b[0;34m.\u001b[0m\u001b[0mloss_correction_nn\u001b[0m\u001b[0;34m(\u001b[0m\u001b[0mx\u001b[0m\u001b[0;34m)\u001b[0m\u001b[0;34m\u001b[0m\u001b[0;34m\u001b[0m\u001b[0m\n\u001b[0;32m----> 8\u001b[0;31m         \u001b[0mchirp_rates\u001b[0m \u001b[0;34m=\u001b[0m \u001b[0mget_chirp_rates_from_noise_torch\u001b[0m\u001b[0;34m(\u001b[0m\u001b[0mnoise_corrections\u001b[0m\u001b[0;34m,\u001b[0m \u001b[0mtrain_data_df\u001b[0m\u001b[0;34m)\u001b[0m\u001b[0;34m\u001b[0m\u001b[0;34m\u001b[0m\u001b[0m\n\u001b[0m\u001b[1;32m      9\u001b[0m         \u001b[0mpredicted_fractions_tensor\u001b[0m \u001b[0;34m=\u001b[0m \u001b[0mget_predicted_fractions_from_chirp_rates_torch\u001b[0m\u001b[0;34m(\u001b[0m\u001b[0mchirp_rates\u001b[0m\u001b[0;34m,\u001b[0m \u001b[0mtrain_data_df\u001b[0m\u001b[0;34m)\u001b[0m\u001b[0;34m\u001b[0m\u001b[0;34m\u001b[0m\u001b[0m\n\u001b[1;32m     10\u001b[0m         \u001b[0;32mreturn\u001b[0m \u001b[0mpredicted_fractions_tensor\u001b[0m\u001b[0;34m\u001b[0m\u001b[0;34m\u001b[0m\u001b[0m\n",
            "\u001b[0;32m<ipython-input-57-6f02fad5cb49>\u001b[0m in \u001b[0;36mget_chirp_rates_from_noise_torch\u001b[0;34m(outputs, data_df)\u001b[0m\n\u001b[1;32m      1\u001b[0m \u001b[0;32mdef\u001b[0m \u001b[0mget_chirp_rates_from_noise_torch\u001b[0m\u001b[0;34m(\u001b[0m\u001b[0moutputs\u001b[0m\u001b[0;34m,\u001b[0m \u001b[0mdata_df\u001b[0m\u001b[0;34m)\u001b[0m\u001b[0;34m:\u001b[0m\u001b[0;34m\u001b[0m\u001b[0;34m\u001b[0m\u001b[0m\n\u001b[0;32m----> 2\u001b[0;31m         \u001b[0mcorrected_chirp_rates\u001b[0m \u001b[0;34m=\u001b[0m \u001b[0moutputs\u001b[0m \u001b[0;34m+\u001b[0m \u001b[0mtorch\u001b[0m\u001b[0;34m.\u001b[0m\u001b[0mtensor\u001b[0m\u001b[0;34m(\u001b[0m\u001b[0mdata_df\u001b[0m\u001b[0;34m[\u001b[0m\u001b[0;34m'chirp_rate'\u001b[0m\u001b[0;34m]\u001b[0m\u001b[0;34m.\u001b[0m\u001b[0mvalues\u001b[0m\u001b[0;34m)\u001b[0m\u001b[0;34m.\u001b[0m\u001b[0mview\u001b[0m\u001b[0;34m(\u001b[0m\u001b[0;34m-\u001b[0m\u001b[0;36m1\u001b[0m\u001b[0;34m,\u001b[0m \u001b[0;36m1\u001b[0m\u001b[0;34m)\u001b[0m\u001b[0;34m\u001b[0m\u001b[0;34m\u001b[0m\u001b[0m\n\u001b[0m\u001b[1;32m      3\u001b[0m         \u001b[0;32mreturn\u001b[0m \u001b[0mcorrected_chirp_rates\u001b[0m\u001b[0;34m\u001b[0m\u001b[0;34m\u001b[0m\u001b[0m\n",
            "\u001b[0;31mRuntimeError\u001b[0m: The size of tensor a (316) must match the size of tensor b (1264) at non-singleton dimension 0"
          ]
        }
      ],
      "source": [
        "test_noise_tensor = torch.tensor(test_data_df[['CA+_mean', 'CA+_std_dev',\n",
        "                                             'CA+_percentile_0', 'CA+_percentile_50',\n",
        "                                             'CA+_percentile_100', 'CA-_mean',\n",
        "                                             'CA-_std_dev', 'CA-_percentile_0',\n",
        "                                             'CA-_percentile_50', 'CA-_percentile_100']].values)\n",
        "# Set model to evaluation mode\n",
        "end_to_end_model.eval()\n",
        "\n",
        "# Forward pass through the model\n",
        "with torch.no_grad():\n",
        "    predicted_fractions = end_to_end_model(test_noise_tensor)\n",
        "\n",
        "test_fractions_shape_corrected = test_fractions.view(-1, 1)\n",
        "mse_model_score = get_model_score(predicted_fractions, test_fractions_shape_corrected, MSELoss)\n",
        "print(f'MSE model score: {mse_model_score}')\n",
        "\n",
        "msle_model_score = get_model_score(predicted_fractions, test_fractions_shape_corrected, MSLELoss)\n",
        "print(f'MSLE model score: {msle_model_score}')"
      ]
    },
    {
      "cell_type": "code",
      "execution_count": null,
      "metadata": {
        "id": "Auq1cUf1yb36"
      },
      "outputs": [],
      "source": [
        "# given a master_un and chirp_direction plot the predicted fraction vs the actual fraction\n",
        "def plot_predicted_vs_actual(master_run_number):\n",
        "\tmaster_run_data = data[data['master_run_number'] == master_run_number]\n",
        "\tchirp_rates_original = torch.tensor(master_run_data['chirp_rate'].values)\n",
        "\tobserved_fractions = master_run_data['fraction'].values\n",
        "\n",
        "\texpected_fractions_with_original_chirp_rates = get_predicted_fractions_from_chirp_rates(torch.tensor(chirp_rates_original), master_run_data)\n",
        "\n",
        "\tmodel.eval()\n",
        "\twith torch.no_grad():\n",
        "\t\tnoise_corrections = model(torch.tensor(master_run_data[['CA+_mean', 'CA+_std_dev','CA+_percentile_0', 'CA+_percentile_100', 'CA-_mean', 'CA-_std_dev', 'CA-_percentile_0', 'CA-_percentile_100']].values))\n",
        "\t\tcorrected_chirp_rates = get_chirp_rates_from_noise(noise_corrections, master_run_data)\n",
        "\t\texpected_fractions_with_corrected_chirp_rates = get_predicted_fractions_from_chirp_rates(corrected_chirp_rates, master_run_data)\n",
        "\n",
        "\tplt.figure(figsize=(10, 6))\n",
        "\tplt.scatter(chirp_rates_original, observed_fractions, label='Observed Fractions')\n",
        "\tplt.scatter(chirp_rates_original, expected_fractions_with_original_chirp_rates, label='Predicted Fractions with Original Chirp Rates')\n",
        "\tplt.show()\n",
        "\n",
        "\tprint(corrected_chirp_rates)\n",
        "\tplt.scatter(corrected_chirp_rates, observed_fractions, label='Observed Fractions')\n",
        "\tplt.scatter(corrected_chirp_rates, expected_fractions_with_corrected_chirp_rates, label='Predicted Fractions with Corrected Chirp Rates')\n",
        "\tplt.show()"
      ]
    },
    {
      "cell_type": "code",
      "execution_count": null,
      "metadata": {
        "id": "ZeYyh_bPyb37"
      },
      "outputs": [],
      "source": [
        "plot_predicted_vs_actual(15795)"
      ]
    }
  ],
  "metadata": {
    "colab": {
      "provenance": []
    },
    "kernelspec": {
      "display_name": "Python 3",
      "language": "python",
      "name": "python3"
    },
    "language_info": {
      "codemirror_mode": {
        "name": "ipython",
        "version": 3
      },
      "file_extension": ".py",
      "mimetype": "text/x-python",
      "name": "python",
      "nbconvert_exporter": "python",
      "pygments_lexer": "ipython3",
      "version": "3.8.0"
    }
  },
  "nbformat": 4,
  "nbformat_minor": 0
}
