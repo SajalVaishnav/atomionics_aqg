{
 "cells": [
  {
   "cell_type": "code",
   "execution_count": 2,
   "metadata": {},
   "outputs": [],
   "source": [
    "import numpy as np\n",
    "import pandas as pd\n",
    "import torch\n",
    "import torch.nn as nn\n",
    "import torch.optim as optim\n",
    "import os\n",
    "from scipy.optimize import curve_fit"
   ]
  },
  {
   "cell_type": "markdown",
   "metadata": {},
   "source": [
    "## Data preparation"
   ]
  },
  {
   "cell_type": "markdown",
   "metadata": {},
   "source": [
    "### Load data"
   ]
  },
  {
   "cell_type": "code",
   "execution_count": 3,
   "metadata": {},
   "outputs": [
    {
     "name": "stdout",
     "output_type": "stream",
     "text": [
      "(63, 28)\n",
      "(16, 28)\n"
     ]
    }
   ],
   "source": [
    "data_file_path = r'C:\\Users\\vaish\\dsvv_atomionics\\compiled_data\\15795_chirp_up.csv'\n",
    "data = pd.read_csv(data_file_path, usecols=\n",
    "\t[\n",
    "\t\t'chirp_rate', 'fraction',\n",
    "\t\t'CA+_mean', 'CA+_std_dev', 'CA+_percentile_0', 'CA+_percentile_10', 'CA+_percentile_20', \n",
    "\t\t'CA+_percentile_30', 'CA+_percentile_40', 'CA+_percentile_50', 'CA+_percentile_60', 'CA+_percentile_70', \n",
    "\t\t'CA+_percentile_80', 'CA+_percentile_90', 'CA+_percentile_100', 'CA-_mean', 'CA-_std_dev', 'CA-_percentile_0', \n",
    "\t\t'CA-_percentile_10', 'CA-_percentile_20', 'CA-_percentile_30', 'CA-_percentile_40', 'CA-_percentile_50', \n",
    "\t\t'CA-_percentile_60', 'CA-_percentile_70', 'CA-_percentile_80', 'CA-_percentile_90', 'CA-_percentile_100'\n",
    "\t])\n",
    "\n",
    "# 80-20 train/test split\n",
    "train_data_df = data.sample(frac=0.8, random_state=0)\n",
    "test_data_df = data.drop(train_data_df.index)\n",
    "\n",
    "print(train_data_df.shape)\n",
    "# print(train_data.head())\n",
    "print(test_data_df.shape)\n",
    "# print(test_data.head())"
   ]
  },
  {
   "cell_type": "markdown",
   "metadata": {},
   "source": [
    "### Constant parameters"
   ]
  },
  {
   "cell_type": "code",
   "execution_count": 4,
   "metadata": {},
   "outputs": [],
   "source": [
    "# I'm not sure of the calculations here, copied from the original code\n",
    "# constants for evaluation: keff, bigT, chirp_direction\n",
    "speed_of_light_in_vacuum = 299792458\n",
    "f1 = 384.2304844685e12 - 72.9113e6 - 2.56300597908911e9 + 61.625e6\n",
    "f2 = f1 + 6.725e9 + 112.06936e6\n",
    "k1 = 2*np.pi/(speed_of_light_in_vacuum/f1)\n",
    "k2 = 2*np.pi/(speed_of_light_in_vacuum/f2)\n",
    "Keff = k1+k2\n",
    "\n",
    "bigT = 10e-3\n",
    "\n",
    "chirp_direction = 'chirp_up'"
   ]
  },
  {
   "cell_type": "markdown",
   "metadata": {},
   "source": [
    "## Custom Loss Function"
   ]
  },
  {
   "cell_type": "code",
   "execution_count": 5,
   "metadata": {},
   "outputs": [],
   "source": [
    "def sine(alpha, contrast, acc_due_to_gravity, fringe_offset):\n",
    "    phi = (Keff * acc_due_to_gravity - 2 * np.pi * alpha) * (bigT**2)\n",
    "    return (-contrast * np.cos(phi) + fringe_offset)"
   ]
  },
  {
   "cell_type": "code",
   "execution_count": 6,
   "metadata": {},
   "outputs": [],
   "source": [
    "def get_popt_for_best_fit(corrected_chirp_rates: np.ndarray, observed_fractions: np.ndarray):\n",
    "\tcontrast = (np.max(observed_fractions) - np.min(observed_fractions)) / 2\n",
    "\tfringe_offset = np.mean(observed_fractions)\n",
    "\tg_guess = -9.78306 if chirp_direction == 'chirp_down' else 9.77997\n",
    "\tperiod = 780e-9/(2*bigT**2)\n",
    "\n",
    "\tsine_function_parameters = [contrast, g_guess, fringe_offset]\n",
    "\tbounds = ([0, g_guess - 0.501*period, -np.inf], [1, g_guess + 0.501*period, np.inf])\n",
    "\tpopt, _ = curve_fit(sine, corrected_chirp_rates, observed_fractions, p0=sine_function_parameters, maxfev=1000000, bounds=bounds)\n",
    "\treturn popt"
   ]
  },
  {
   "cell_type": "code",
   "execution_count": 7,
   "metadata": {},
   "outputs": [],
   "source": [
    "def calculate_mse_loss_with_popt(outputs: torch.TensorType, observed_fractions: torch.TensorType, *popt):\n",
    "\tprint(popt)\n",
    "\ttensor0 = torch.tensor([Keff * popt[1] * bigT**2 for i in range(len(outputs))], dtype=torch.float32)\n",
    "\ttensor1 = outputs * bigT**2 * 2 * torch.pi\n",
    "\tphi_tensor = torch.cos(tensor0 - tensor1)\n",
    "\tpredicted_fractions_tensor = phi_tensor * (-popt[0]) + popt[2]\n",
    "\tmse_loss = nn.MSELoss()\n",
    "\tloss = mse_loss(predicted_fractions_tensor, observed_fractions)\n",
    "\treturn loss"
   ]
  },
  {
   "cell_type": "markdown",
   "metadata": {},
   "source": [
    "## Training"
   ]
  },
  {
   "cell_type": "markdown",
   "metadata": {},
   "source": [
    "### Neural Network"
   ]
  },
  {
   "cell_type": "code",
   "execution_count": 8,
   "metadata": {},
   "outputs": [],
   "source": [
    "class TransformationNN(nn.Module):\n",
    "    def __init__(self, input_dim, output_dim):\n",
    "        super(TransformationNN, self).__init__()\n",
    "        # Define the layers of the network: 3 fully connected layers 27 -> 64 -> 64 -> 1\n",
    "        self.fc1 = nn.Linear(input_dim, 64)\n",
    "        self.fc2 = nn.Linear(64, 64)\n",
    "        self.fc3 = nn.Linear(64, output_dim)\n",
    "    \n",
    "    def forward(self, x):\n",
    "        x = torch.relu(self.fc1(x))\n",
    "        x = torch.relu(self.fc2(x))\n",
    "        x = self.fc3(x)\n",
    "        return x"
   ]
  },
  {
   "cell_type": "code",
   "execution_count": 9,
   "metadata": {},
   "outputs": [],
   "source": [
    "training_data_tensor = torch.tensor(train_data_df.drop(columns=['fraction']).values, dtype=torch.float32)\n",
    "observed_fractions_tensor = torch.tensor(train_data_df['fraction'].values, dtype=torch.float32)\n",
    "observed_fractions_ndarray = train_data_df['fraction'].to_numpy()"
   ]
  },
  {
   "cell_type": "code",
   "execution_count": 10,
   "metadata": {},
   "outputs": [],
   "source": [
    "# Initialize the neural network\n",
    "model = TransformationNN(input_dim=27, output_dim=1)\n",
    "optimizer = optim.Adam(model.parameters(), lr=0.01)"
   ]
  },
  {
   "cell_type": "code",
   "execution_count": 11,
   "metadata": {},
   "outputs": [
    {
     "name": "stdout",
     "output_type": "stream",
     "text": [
      "(0.999999999431646, 9.780892474735499, 0.8465546138507163)\n",
      "Epoch [1/10], MSE: 0.0066\n",
      "(0.09975007430612874, 9.778016100000002, 0.48235996377213886)\n",
      "Epoch [2/10], MSE: 0.0066\n",
      "(0.42318518977417396, 9.778016100000002, 0.16540348302552968)\n",
      "Epoch [3/10], MSE: 0.0068\n",
      "(0.9999999999629244, 9.778564739878222, -0.41575890528631854)\n",
      "Epoch [4/10], MSE: 0.0067\n",
      "(0.270108543000652, 9.778990218460214, 0.2871578444321634)\n",
      "Epoch [5/10], MSE: 0.0063\n",
      "(0.9999999999999998, 9.779424068611982, -0.4222207641966522)\n",
      "Epoch [6/10], MSE: 0.0066\n",
      "(0.3206116740120039, 9.778016100000002, 0.7777279999690003)\n",
      "Epoch [7/10], MSE: 0.0065\n",
      "(0.9999999999999999, 9.781441402323617, 1.550032765684551)\n",
      "Epoch [8/10], MSE: 0.0063\n",
      "(0.9999999999999999, 9.781358541988086, 1.5506371729435613)\n",
      "Epoch [9/10], MSE: 0.0063\n"
     ]
    },
    {
     "name": "stderr",
     "output_type": "stream",
     "text": [
      "c:\\Users\\vaish\\AppData\\Local\\Programs\\Python\\Python38\\lib\\site-packages\\torch\\nn\\modules\\loss.py:535: UserWarning: Using a target size (torch.Size([63])) that is different to the input size (torch.Size([63, 63])). This will likely lead to incorrect results due to broadcasting. Please ensure they have the same size.\n",
      "  return F.mse_loss(input, target, reduction=self.reduction)\n"
     ]
    },
    {
     "name": "stdout",
     "output_type": "stream",
     "text": [
      "(0.016823958955162477, 9.77801610000016, 0.5610285537112808)\n",
      "Epoch [10/10], MSE: 0.0063\n"
     ]
    }
   ],
   "source": [
    "\n",
    "num_epochs = 10\n",
    "for epoch in range(num_epochs):\n",
    "    model.train()\n",
    "    \n",
    "    # Forward pass: Compute predicted y by passing x to the model\n",
    "    outputs = model(training_data_tensor)\n",
    "    \n",
    "    outputs_clone = outputs.clone()\n",
    "    corrected_chirp_rates_ndarray = outputs_clone.detach().cpu().squeeze().numpy()\n",
    "    \n",
    "    popt = get_popt_for_best_fit(corrected_chirp_rates_ndarray, observed_fractions_ndarray)    \n",
    "    loss = calculate_mse_loss_with_popt(outputs, observed_fractions_tensor, *popt)\n",
    "    \n",
    "    # Print the loss\n",
    "    print(f'Epoch [{epoch + 1}/{num_epochs}], MSE: {loss.item():.4f}')\n",
    "\n",
    "    # Zero gradients, perform a backward pass, and update the weights\n",
    "    optimizer.zero_grad()\n",
    "    loss.backward()\n",
    "    optimizer.step()"
   ]
  }
 ],
 "metadata": {
  "kernelspec": {
   "display_name": "Python 3",
   "language": "python",
   "name": "python3"
  },
  "language_info": {
   "codemirror_mode": {
    "name": "ipython",
    "version": 3
   },
   "file_extension": ".py",
   "mimetype": "text/x-python",
   "name": "python",
   "nbconvert_exporter": "python",
   "pygments_lexer": "ipython3",
   "version": "3.8.0"
  }
 },
 "nbformat": 4,
 "nbformat_minor": 2
}
